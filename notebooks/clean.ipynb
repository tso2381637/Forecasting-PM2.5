{
 "cells": [
  {
   "cell_type": "code",
   "execution_count": 1,
   "id": "9463a6c4-c391-42f9-a923-fa45ce0506ba",
   "metadata": {},
   "outputs": [],
   "source": [
    "\"\"\"\n",
    "Title: AI539 - Machine Learning Challenge 2022 Winter Final Project\n",
    "Authur: Yun-Yi Tseng\n",
    "Date: 2022/03/13\n",
    "\n",
    "This notebook used to clean data\n",
    "\n",
    "\"\"\"\n",
    "import numpy as np\n",
    "import pandas as pd\n",
    "\n",
    "import os\n",
    "import glob\n",
    "\n",
    "import warnings\n",
    "from tqdm import tqdm\n",
    "\n",
    "\n",
    "warnings.filterwarnings(\"ignore\")\n",
    "pd.set_option(\"display.max_columns\", None)"
   ]
  },
  {
   "cell_type": "code",
   "execution_count": 2,
   "id": "2458e55b-47ef-47fc-bde0-3bf457d29ff5",
   "metadata": {},
   "outputs": [],
   "source": [
    "DIR_PATH = \"../data\"\n",
    "RAW_DICT_PATH = f\"{DIR_PATH}/raw\"\n",
    "OUTPUT_PATH = f\"{DIR_PATH}/interim\""
   ]
  },
  {
   "cell_type": "code",
   "execution_count": 3,
   "id": "cb5c6ad0-08f7-41a7-af00-74438e936b46",
   "metadata": {},
   "outputs": [],
   "source": [
    "def data_cleaning(file_path):\n",
    "\n",
    "    df = pd.read_csv(file_path, encoding=\"big5\")\n",
    "    df.columns = [col.replace(\" \", \"\") for col in df.columns]\n",
    "    df = df.rename(columns={\"測站\": \"station\", \"日期\": \"time\", \"測項\": \"items\"})\n",
    "    df = df.drop(0, axis=0)\n",
    "\n",
    "    geo = pd.read_csv(f\"{DIR_PATH}/external/geodata.csv\")\n",
    "\n",
    "    new_df = pd.DataFrame()\n",
    "    station = df.iloc[0, 0].replace(\" \", \"\")\n",
    "    # print(df.iloc[0, 0].replace(\" \", \"\"))\n",
    "    for index, d in df.groupby(\"time\"):\n",
    "        chunk = d.iloc[:, 2:].transpose().reset_index()\n",
    "        chunk.columns = chunk.iloc[0]\n",
    "        chunk = chunk.drop(0)\n",
    "        chunk[\"time\"] = pd.to_datetime(index[:10] + \" \" + chunk.iloc[:, 0].astype(str))\n",
    "\n",
    "        if station in geo[\"sitename\"].unique():\n",
    "            geo_station = geo.query(\"sitename == @station\")\n",
    "            chunk[\"station\"] = geo_station[\"siteengname\"].values[0]\n",
    "\n",
    "            chunk[\"longitude\"] = geo_station[\"twd97lon\"].values[0]\n",
    "            chunk[\"latitude\"] = geo_station[\"twd97lat\"].values[0]\n",
    "\n",
    "        chunk = chunk.drop(chunk.columns[0], axis=1)\n",
    "        new_df = pd.concat([new_df, chunk], join=\"outer\")\n",
    "\n",
    "    if not os.path.exists(OUTPUT_PATH):\n",
    "        os.makedirs(OUTPUT_PATH)\n",
    "\n",
    "    filename = file_path.split(\"\\\\\")[-1]\n",
    "    new_df.to_csv(f\"{OUTPUT_PATH}/{filename}\", index=False)"
   ]
  },
  {
   "cell_type": "code",
   "execution_count": 4,
   "id": "93f46f1a-6fdd-43eb-a690-8be2bcf7201c",
   "metadata": {},
   "outputs": [
    {
     "name": "stderr",
     "output_type": "stream",
     "text": [
      " 47%|█████████████████████████████████████████████████████████████████████████████████████████████████████████████████████████████████▉                                                                                                                                                    | 108/231 [03:25<03:53,  1.90s/it]\n"
     ]
    },
    {
     "ename": "KeyboardInterrupt",
     "evalue": "",
     "output_type": "error",
     "traceback": [
      "\u001b[1;31m---------------------------------------------------------------------------\u001b[0m",
      "\u001b[1;31mKeyboardInterrupt\u001b[0m                         Traceback (most recent call last)",
      "Input \u001b[1;32mIn [4]\u001b[0m, in \u001b[0;36m<cell line: 1>\u001b[1;34m()\u001b[0m\n\u001b[0;32m      1\u001b[0m \u001b[38;5;28;01mfor\u001b[39;00m f \u001b[38;5;129;01min\u001b[39;00m tqdm(glob\u001b[38;5;241m.\u001b[39mglob(\u001b[38;5;124mf\u001b[39m\u001b[38;5;124m\"\u001b[39m\u001b[38;5;132;01m{\u001b[39;00mRAW_DICT_PATH\u001b[38;5;132;01m}\u001b[39;00m\u001b[38;5;124m/**/*.csv\u001b[39m\u001b[38;5;124m\"\u001b[39m, recursive\u001b[38;5;241m=\u001b[39m\u001b[38;5;28;01mTrue\u001b[39;00m)):\n\u001b[1;32m----> 2\u001b[0m     data_cleaning(f)\n",
      "Input \u001b[1;32mIn [3]\u001b[0m, in \u001b[0;36mdata_cleaning\u001b[1;34m(file_path)\u001b[0m\n\u001b[0;32m     16\u001b[0m chunk \u001b[38;5;241m=\u001b[39m chunk\u001b[38;5;241m.\u001b[39mdrop(\u001b[38;5;241m0\u001b[39m)\n\u001b[0;32m     17\u001b[0m chunk[\u001b[38;5;124m\"\u001b[39m\u001b[38;5;124mtime\u001b[39m\u001b[38;5;124m\"\u001b[39m] \u001b[38;5;241m=\u001b[39m pd\u001b[38;5;241m.\u001b[39mto_datetime(index[:\u001b[38;5;241m10\u001b[39m] \u001b[38;5;241m+\u001b[39m \u001b[38;5;124m\"\u001b[39m\u001b[38;5;124m \u001b[39m\u001b[38;5;124m\"\u001b[39m \u001b[38;5;241m+\u001b[39m chunk\u001b[38;5;241m.\u001b[39miloc[:, \u001b[38;5;241m0\u001b[39m]\u001b[38;5;241m.\u001b[39mastype(\u001b[38;5;28mstr\u001b[39m))\n\u001b[1;32m---> 19\u001b[0m \u001b[38;5;28;01mif\u001b[39;00m station \u001b[38;5;129;01min\u001b[39;00m \u001b[43mgeo\u001b[49m\u001b[43m[\u001b[49m\u001b[38;5;124;43m\"\u001b[39;49m\u001b[38;5;124;43msitename\u001b[39;49m\u001b[38;5;124;43m\"\u001b[39;49m\u001b[43m]\u001b[49m\u001b[38;5;241;43m.\u001b[39;49m\u001b[43munique\u001b[49m\u001b[43m(\u001b[49m\u001b[43m)\u001b[49m:\n\u001b[0;32m     20\u001b[0m     geo_station \u001b[38;5;241m=\u001b[39m geo\u001b[38;5;241m.\u001b[39mquery(\u001b[38;5;124m\"\u001b[39m\u001b[38;5;124msitename == @station\u001b[39m\u001b[38;5;124m\"\u001b[39m)\n\u001b[0;32m     21\u001b[0m     chunk[\u001b[38;5;124m\"\u001b[39m\u001b[38;5;124mstation\u001b[39m\u001b[38;5;124m\"\u001b[39m] \u001b[38;5;241m=\u001b[39m geo_station[\u001b[38;5;124m\"\u001b[39m\u001b[38;5;124msiteengname\u001b[39m\u001b[38;5;124m\"\u001b[39m]\u001b[38;5;241m.\u001b[39mvalues[\u001b[38;5;241m0\u001b[39m]\n",
      "File \u001b[1;32m~\\anaconda3\\envs\\ai539-project\\lib\\site-packages\\pandas\\core\\series.py:2088\u001b[0m, in \u001b[0;36mSeries.unique\u001b[1;34m(self)\u001b[0m\n\u001b[0;32m   2030\u001b[0m \u001b[38;5;28;01mdef\u001b[39;00m \u001b[38;5;21munique\u001b[39m(\u001b[38;5;28mself\u001b[39m) \u001b[38;5;241m-\u001b[39m\u001b[38;5;241m>\u001b[39m ArrayLike:\n\u001b[0;32m   2031\u001b[0m     \u001b[38;5;124;03m\"\"\"\u001b[39;00m\n\u001b[0;32m   2032\u001b[0m \u001b[38;5;124;03m    Return unique values of Series object.\u001b[39;00m\n\u001b[0;32m   2033\u001b[0m \n\u001b[1;32m   (...)\u001b[0m\n\u001b[0;32m   2086\u001b[0m \u001b[38;5;124;03m    Categories (3, object): ['a' < 'b' < 'c']\u001b[39;00m\n\u001b[0;32m   2087\u001b[0m \u001b[38;5;124;03m    \"\"\"\u001b[39;00m\n\u001b[1;32m-> 2088\u001b[0m     \u001b[38;5;28;01mreturn\u001b[39;00m \u001b[38;5;28;43msuper\u001b[39;49m\u001b[43m(\u001b[49m\u001b[43m)\u001b[49m\u001b[38;5;241;43m.\u001b[39;49m\u001b[43munique\u001b[49m\u001b[43m(\u001b[49m\u001b[43m)\u001b[49m\n",
      "File \u001b[1;32m~\\anaconda3\\envs\\ai539-project\\lib\\site-packages\\pandas\\core\\base.py:989\u001b[0m, in \u001b[0;36mIndexOpsMixin.unique\u001b[1;34m(self)\u001b[0m\n\u001b[0;32m    987\u001b[0m             result \u001b[38;5;241m=\u001b[39m np\u001b[38;5;241m.\u001b[39masarray(result)\n\u001b[0;32m    988\u001b[0m \u001b[38;5;28;01melse\u001b[39;00m:\n\u001b[1;32m--> 989\u001b[0m     result \u001b[38;5;241m=\u001b[39m \u001b[43munique1d\u001b[49m\u001b[43m(\u001b[49m\u001b[43mvalues\u001b[49m\u001b[43m)\u001b[49m\n\u001b[0;32m    991\u001b[0m \u001b[38;5;28;01mreturn\u001b[39;00m result\n",
      "File \u001b[1;32m~\\anaconda3\\envs\\ai539-project\\lib\\site-packages\\pandas\\core\\algorithms.py:440\u001b[0m, in \u001b[0;36munique\u001b[1;34m(values)\u001b[0m\n\u001b[0;32m    437\u001b[0m htable, values \u001b[38;5;241m=\u001b[39m _get_hashtable_algo(values)\n\u001b[0;32m    439\u001b[0m table \u001b[38;5;241m=\u001b[39m htable(\u001b[38;5;28mlen\u001b[39m(values))\n\u001b[1;32m--> 440\u001b[0m uniques \u001b[38;5;241m=\u001b[39m \u001b[43mtable\u001b[49m\u001b[38;5;241;43m.\u001b[39;49m\u001b[43munique\u001b[49m\u001b[43m(\u001b[49m\u001b[43mvalues\u001b[49m\u001b[43m)\u001b[49m\n\u001b[0;32m    441\u001b[0m uniques \u001b[38;5;241m=\u001b[39m _reconstruct_data(uniques, original\u001b[38;5;241m.\u001b[39mdtype, original)\n\u001b[0;32m    442\u001b[0m \u001b[38;5;28;01mreturn\u001b[39;00m uniques\n",
      "\u001b[1;31mKeyboardInterrupt\u001b[0m: "
     ]
    }
   ],
   "source": [
    "for f in tqdm(glob.glob(f\"{RAW_DICT_PATH}/**/*.csv\", recursive=True)):\n",
    "    data_cleaning(f)"
   ]
  },
  {
   "cell_type": "code",
   "execution_count": null,
   "id": "5043750c-7cb9-482e-a472-d1876b690668",
   "metadata": {},
   "outputs": [],
   "source": [
    "if not os.path.exists(\"data\"):\n",
    "    os.makedirs(\"data\")\n",
    "\n",
    "filenames = glob.glob(f\"{OUTPUT_PATH}/*.csv\")\n",
    "new_csv = pd.concat([pd.read_csv(f) for f in filenames], join=\"outer\")\n",
    "new_csv.columns = [col.replace(\" \", \"\") for col in new_csv.columns]\n",
    "new_columns = [\n",
    "    \"station\",\n",
    "    \"time\",\n",
    "    \"longitude\",\n",
    "    \"latitude\",\n",
    "    \"AMB_TEMP\",\n",
    "    \"CO\",\n",
    "    \"NO\",\n",
    "    \"NO2\",\n",
    "    \"NOx\",\n",
    "    \"O3\",\n",
    "    \"PM10\",\n",
    "    \"RAINFALL\",\n",
    "    \"RH\",\n",
    "    \"SO2\",\n",
    "    \"WD_HR\",\n",
    "    \"WIND_DIREC\",\n",
    "    \"WIND_SPEED\",\n",
    "    \"WS_HR\",\n",
    "    \"CH4\",\n",
    "    \"NMHC\",\n",
    "    \"THC\",\n",
    "    \"PM2.5\",\n",
    "]\n",
    "new_csv = new_csv[new_columns]\n",
    "new_csv.to_csv(f\"{DIR_PATH}/processed/air_quality_2018to2020.csv\", index=False)"
   ]
  },
  {
   "cell_type": "code",
   "execution_count": null,
   "id": "ad1c20af-bec4-4e6e-b698-96b5e6dba2bf",
   "metadata": {},
   "outputs": [],
   "source": []
  }
 ],
 "metadata": {
  "kernelspec": {
   "display_name": "Python 3 (ipykernel)",
   "language": "python",
   "name": "python3"
  },
  "language_info": {
   "codemirror_mode": {
    "name": "ipython",
    "version": 3
   },
   "file_extension": ".py",
   "mimetype": "text/x-python",
   "name": "python",
   "nbconvert_exporter": "python",
   "pygments_lexer": "ipython3",
   "version": "3.9.7"
  }
 },
 "nbformat": 4,
 "nbformat_minor": 5
}
