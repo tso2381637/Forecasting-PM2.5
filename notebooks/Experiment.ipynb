{
 "cells": [
  {
   "cell_type": "code",
   "execution_count": 1,
   "id": "1d449985-b4c7-4881-ab6f-3b3f417b8fe5",
   "metadata": {
    "id": "1d449985-b4c7-4881-ab6f-3b3f417b8fe5"
   },
   "outputs": [],
   "source": [
    "\"\"\"\n",
    "Title: AI539 - Machine Learning Challenge 2022 Winter Final Project\n",
    "Authur: Yun-Yi Tseng\n",
    "Date: 2022/03/13\n",
    "\n",
    "This notebook conduct 9 experiments for 3 challenges\n",
    "\n",
    "\"\"\"\n",
    "import numpy as np\n",
    "import pandas as pd\n",
    "import random as rn\n",
    "\n",
    "import matplotlib.pyplot as plt\n",
    "import os\n",
    "from tqdm import tqdm\n",
    "\n",
    "plt.style.use(\"ggplot\")\n",
    "import seaborn as sns\n",
    "\n",
    "import warnings\n",
    "\n",
    "warnings.filterwarnings(\"ignore\")\n",
    "pd.set_option(\"display.max_columns\", None)\n",
    "\n",
    "from sklearn.cluster import KMeans\n",
    "from sklearn.preprocessing import StandardScaler\n",
    "from sklearn.preprocessing import MinMaxScaler\n",
    "from sklearn.metrics import mean_absolute_error\n",
    "\n",
    "import tensorflow as tf\n",
    "from tensorflow import keras\n",
    "from keras.models import Sequential\n",
    "from keras.layers import Dense\n",
    "from keras.layers import LSTM\n",
    "\n",
    "# set seed for experiments\n",
    "SEED = 539\n",
    "os.environ['PYTHONHASHSEED']=str(SEED)\n",
    "np.random.seed(SEED)\n",
    "tf.random.set_seed(SEED)\n",
    "rn.seed(SEED)"
   ]
  },
  {
   "cell_type": "code",
   "execution_count": 2,
   "id": "ObNsYpf6rUs1",
   "metadata": {
    "colab": {
     "base_uri": "https://localhost:8080/"
    },
    "id": "ObNsYpf6rUs1",
    "outputId": "bf31f6ef-4751-4db8-925d-e4c0e52c0ff7"
   },
   "outputs": [],
   "source": [
    "# This section is for running on colab. See Readme.md. \n",
    "\n",
    "# from google.colab import drive\n",
    "# drive.mount('/content/drive')\n",
    "\n",
    "# df = pd.read_csv(\n",
    "#     \"/content/drive/MyDrive/air_quality_2018to2020.csv\", index_col=\"time\", parse_dates=True\n",
    "# )\n",
    "# geo = pd.read_csv(\"/content/drive/MyDrive/geodata.csv\")"
   ]
  },
  {
   "cell_type": "code",
   "execution_count": 3,
   "id": "0c2dd89a-cb15-493b-b0e8-4bb9d6fc4d18",
   "metadata": {
    "id": "0c2dd89a-cb15-493b-b0e8-4bb9d6fc4d18"
   },
   "outputs": [],
   "source": [
    "df = pd.read_csv(\n",
    "    \"../data/processed/air_quality_2018to2020.csv\", index_col=\"time\", parse_dates=True\n",
    ")\n",
    "# geo data for challenge 3\n",
    "geo = pd.read_csv(\"../data/external/geodata.csv\")"
   ]
  },
  {
   "cell_type": "code",
   "execution_count": 4,
   "id": "31a5f8f5-e344-4141-ac3f-d69ec544ed18",
   "metadata": {
    "colab": {
     "base_uri": "https://localhost:8080/",
     "height": 238
    },
    "id": "31a5f8f5-e344-4141-ac3f-d69ec544ed18",
    "outputId": "93d66a49-7199-4659-96bb-2f9c9ff539e9"
   },
   "outputs": [
    {
     "data": {
      "text/html": [
       "<div>\n",
       "<style scoped>\n",
       "    .dataframe tbody tr th:only-of-type {\n",
       "        vertical-align: middle;\n",
       "    }\n",
       "\n",
       "    .dataframe tbody tr th {\n",
       "        vertical-align: top;\n",
       "    }\n",
       "\n",
       "    .dataframe thead th {\n",
       "        text-align: right;\n",
       "    }\n",
       "</style>\n",
       "<table border=\"1\" class=\"dataframe\">\n",
       "  <thead>\n",
       "    <tr style=\"text-align: right;\">\n",
       "      <th></th>\n",
       "      <th>station</th>\n",
       "      <th>longitude</th>\n",
       "      <th>latitude</th>\n",
       "      <th>AMB_TEMP</th>\n",
       "      <th>CO</th>\n",
       "      <th>NO</th>\n",
       "      <th>NO2</th>\n",
       "      <th>NOx</th>\n",
       "      <th>O3</th>\n",
       "      <th>PM10</th>\n",
       "      <th>RAINFALL</th>\n",
       "      <th>RH</th>\n",
       "      <th>SO2</th>\n",
       "      <th>WD_HR</th>\n",
       "      <th>WIND_DIREC</th>\n",
       "      <th>WIND_SPEED</th>\n",
       "      <th>WS_HR</th>\n",
       "      <th>CH4</th>\n",
       "      <th>NMHC</th>\n",
       "      <th>THC</th>\n",
       "      <th>PM2.5</th>\n",
       "    </tr>\n",
       "    <tr>\n",
       "      <th>time</th>\n",
       "      <th></th>\n",
       "      <th></th>\n",
       "      <th></th>\n",
       "      <th></th>\n",
       "      <th></th>\n",
       "      <th></th>\n",
       "      <th></th>\n",
       "      <th></th>\n",
       "      <th></th>\n",
       "      <th></th>\n",
       "      <th></th>\n",
       "      <th></th>\n",
       "      <th></th>\n",
       "      <th></th>\n",
       "      <th></th>\n",
       "      <th></th>\n",
       "      <th></th>\n",
       "      <th></th>\n",
       "      <th></th>\n",
       "      <th></th>\n",
       "      <th></th>\n",
       "    </tr>\n",
       "  </thead>\n",
       "  <tbody>\n",
       "    <tr>\n",
       "      <th>2018-01-01 00:00:00</th>\n",
       "      <td>Sanyi</td>\n",
       "      <td>120.758833</td>\n",
       "      <td>24.382942</td>\n",
       "      <td>11.6</td>\n",
       "      <td>0.26</td>\n",
       "      <td>0.8</td>\n",
       "      <td>4.7</td>\n",
       "      <td>5.5</td>\n",
       "      <td>39.6</td>\n",
       "      <td>53</td>\n",
       "      <td>0</td>\n",
       "      <td>92</td>\n",
       "      <td>2.3</td>\n",
       "      <td>24</td>\n",
       "      <td>24</td>\n",
       "      <td>3.9</td>\n",
       "      <td>3.8</td>\n",
       "      <td>NaN</td>\n",
       "      <td>NaN</td>\n",
       "      <td>NaN</td>\n",
       "      <td>21</td>\n",
       "    </tr>\n",
       "    <tr>\n",
       "      <th>2018-01-01 01:00:00</th>\n",
       "      <td>Sanyi</td>\n",
       "      <td>120.758833</td>\n",
       "      <td>24.382942</td>\n",
       "      <td>11.6</td>\n",
       "      <td>0.28</td>\n",
       "      <td>0.9</td>\n",
       "      <td>2.3</td>\n",
       "      <td>3.2</td>\n",
       "      <td>40.1</td>\n",
       "      <td>47</td>\n",
       "      <td>0</td>\n",
       "      <td>93</td>\n",
       "      <td>0.5</td>\n",
       "      <td>24</td>\n",
       "      <td>23</td>\n",
       "      <td>3.7</td>\n",
       "      <td>3.8</td>\n",
       "      <td>NaN</td>\n",
       "      <td>NaN</td>\n",
       "      <td>NaN</td>\n",
       "      <td>22</td>\n",
       "    </tr>\n",
       "    <tr>\n",
       "      <th>2018-01-01 02:00:00</th>\n",
       "      <td>Sanyi</td>\n",
       "      <td>120.758833</td>\n",
       "      <td>24.382942</td>\n",
       "      <td>11.4</td>\n",
       "      <td>0.27</td>\n",
       "      <td>0.3</td>\n",
       "      <td>2.6</td>\n",
       "      <td>3</td>\n",
       "      <td>39.5</td>\n",
       "      <td>46</td>\n",
       "      <td>0</td>\n",
       "      <td>94</td>\n",
       "      <td>0.5</td>\n",
       "      <td>25</td>\n",
       "      <td>23</td>\n",
       "      <td>4.3</td>\n",
       "      <td>3.9</td>\n",
       "      <td>NaN</td>\n",
       "      <td>NaN</td>\n",
       "      <td>NaN</td>\n",
       "      <td>20</td>\n",
       "    </tr>\n",
       "    <tr>\n",
       "      <th>2018-01-01 03:00:00</th>\n",
       "      <td>Sanyi</td>\n",
       "      <td>120.758833</td>\n",
       "      <td>24.382942</td>\n",
       "      <td>11.2</td>\n",
       "      <td>0.26</td>\n",
       "      <td>0.3</td>\n",
       "      <td>2.6</td>\n",
       "      <td>2.9</td>\n",
       "      <td>39.5</td>\n",
       "      <td>46</td>\n",
       "      <td>0</td>\n",
       "      <td>95</td>\n",
       "      <td>0.5</td>\n",
       "      <td>24</td>\n",
       "      <td>21</td>\n",
       "      <td>3.4</td>\n",
       "      <td>3.6</td>\n",
       "      <td>NaN</td>\n",
       "      <td>NaN</td>\n",
       "      <td>NaN</td>\n",
       "      <td>22</td>\n",
       "    </tr>\n",
       "    <tr>\n",
       "      <th>2018-01-01 04:00:00</th>\n",
       "      <td>Sanyi</td>\n",
       "      <td>120.758833</td>\n",
       "      <td>24.382942</td>\n",
       "      <td>11.1</td>\n",
       "      <td>0.25</td>\n",
       "      <td>0.6</td>\n",
       "      <td>2.2</td>\n",
       "      <td>2.8</td>\n",
       "      <td>39.6</td>\n",
       "      <td>41</td>\n",
       "      <td>0</td>\n",
       "      <td>96</td>\n",
       "      <td>0.5</td>\n",
       "      <td>22</td>\n",
       "      <td>23</td>\n",
       "      <td>3.5</td>\n",
       "      <td>3.5</td>\n",
       "      <td>NaN</td>\n",
       "      <td>NaN</td>\n",
       "      <td>NaN</td>\n",
       "      <td>20</td>\n",
       "    </tr>\n",
       "  </tbody>\n",
       "</table>\n",
       "</div>"
      ],
      "text/plain": [
       "                    station   longitude   latitude  \\\n",
       "time                                                 \n",
       "2018-01-01 00:00:00   Sanyi  120.758833  24.382942   \n",
       "2018-01-01 01:00:00   Sanyi  120.758833  24.382942   \n",
       "2018-01-01 02:00:00   Sanyi  120.758833  24.382942   \n",
       "2018-01-01 03:00:00   Sanyi  120.758833  24.382942   \n",
       "2018-01-01 04:00:00   Sanyi  120.758833  24.382942   \n",
       "\n",
       "                                            AMB_TEMP  \\\n",
       "time                                                   \n",
       "2018-01-01 00:00:00  11.6                              \n",
       "2018-01-01 01:00:00  11.6                              \n",
       "2018-01-01 02:00:00  11.4                              \n",
       "2018-01-01 03:00:00  11.2                              \n",
       "2018-01-01 04:00:00  11.1                              \n",
       "\n",
       "                                                  CO  \\\n",
       "time                                                   \n",
       "2018-01-01 00:00:00  0.26                              \n",
       "2018-01-01 01:00:00  0.28                              \n",
       "2018-01-01 02:00:00  0.27                              \n",
       "2018-01-01 03:00:00  0.26                              \n",
       "2018-01-01 04:00:00  0.25                              \n",
       "\n",
       "                                                  NO  \\\n",
       "time                                                   \n",
       "2018-01-01 00:00:00  0.8                               \n",
       "2018-01-01 01:00:00  0.9                               \n",
       "2018-01-01 02:00:00  0.3                               \n",
       "2018-01-01 03:00:00  0.3                               \n",
       "2018-01-01 04:00:00  0.6                               \n",
       "\n",
       "                                                 NO2  \\\n",
       "time                                                   \n",
       "2018-01-01 00:00:00  4.7                               \n",
       "2018-01-01 01:00:00  2.3                               \n",
       "2018-01-01 02:00:00  2.6                               \n",
       "2018-01-01 03:00:00  2.6                               \n",
       "2018-01-01 04:00:00  2.2                               \n",
       "\n",
       "                                                 NOx  \\\n",
       "time                                                   \n",
       "2018-01-01 00:00:00  5.5                               \n",
       "2018-01-01 01:00:00  3.2                               \n",
       "2018-01-01 02:00:00  3                                 \n",
       "2018-01-01 03:00:00  2.9                               \n",
       "2018-01-01 04:00:00  2.8                               \n",
       "\n",
       "                                                  O3  \\\n",
       "time                                                   \n",
       "2018-01-01 00:00:00  39.6                              \n",
       "2018-01-01 01:00:00  40.1                              \n",
       "2018-01-01 02:00:00  39.5                              \n",
       "2018-01-01 03:00:00  39.5                              \n",
       "2018-01-01 04:00:00  39.6                              \n",
       "\n",
       "                                                PM10  \\\n",
       "time                                                   \n",
       "2018-01-01 00:00:00  53                                \n",
       "2018-01-01 01:00:00  47                                \n",
       "2018-01-01 02:00:00  46                                \n",
       "2018-01-01 03:00:00  46                                \n",
       "2018-01-01 04:00:00  41                                \n",
       "\n",
       "                                            RAINFALL  \\\n",
       "time                                                   \n",
       "2018-01-01 00:00:00  0                                 \n",
       "2018-01-01 01:00:00  0                                 \n",
       "2018-01-01 02:00:00  0                                 \n",
       "2018-01-01 03:00:00  0                                 \n",
       "2018-01-01 04:00:00  0                                 \n",
       "\n",
       "                                                  RH  \\\n",
       "time                                                   \n",
       "2018-01-01 00:00:00  92                                \n",
       "2018-01-01 01:00:00  93                                \n",
       "2018-01-01 02:00:00  94                                \n",
       "2018-01-01 03:00:00  95                                \n",
       "2018-01-01 04:00:00  96                                \n",
       "\n",
       "                                                 SO2  \\\n",
       "time                                                   \n",
       "2018-01-01 00:00:00  2.3                               \n",
       "2018-01-01 01:00:00  0.5                               \n",
       "2018-01-01 02:00:00  0.5                               \n",
       "2018-01-01 03:00:00  0.5                               \n",
       "2018-01-01 04:00:00  0.5                               \n",
       "\n",
       "                                               WD_HR  \\\n",
       "time                                                   \n",
       "2018-01-01 00:00:00  24                                \n",
       "2018-01-01 01:00:00  24                                \n",
       "2018-01-01 02:00:00  25                                \n",
       "2018-01-01 03:00:00  24                                \n",
       "2018-01-01 04:00:00  22                                \n",
       "\n",
       "                                          WIND_DIREC  \\\n",
       "time                                                   \n",
       "2018-01-01 00:00:00  24                                \n",
       "2018-01-01 01:00:00  23                                \n",
       "2018-01-01 02:00:00  23                                \n",
       "2018-01-01 03:00:00  21                                \n",
       "2018-01-01 04:00:00  23                                \n",
       "\n",
       "                                          WIND_SPEED  \\\n",
       "time                                                   \n",
       "2018-01-01 00:00:00  3.9                               \n",
       "2018-01-01 01:00:00  3.7                               \n",
       "2018-01-01 02:00:00  4.3                               \n",
       "2018-01-01 03:00:00  3.4                               \n",
       "2018-01-01 04:00:00  3.5                               \n",
       "\n",
       "                                               WS_HR  CH4 NMHC  THC  \\\n",
       "time                                                                  \n",
       "2018-01-01 00:00:00  3.8                              NaN  NaN  NaN   \n",
       "2018-01-01 01:00:00  3.8                              NaN  NaN  NaN   \n",
       "2018-01-01 02:00:00  3.9                              NaN  NaN  NaN   \n",
       "2018-01-01 03:00:00  3.6                              NaN  NaN  NaN   \n",
       "2018-01-01 04:00:00  3.5                              NaN  NaN  NaN   \n",
       "\n",
       "                                               PM2.5  \n",
       "time                                                  \n",
       "2018-01-01 00:00:00  21                               \n",
       "2018-01-01 01:00:00  22                               \n",
       "2018-01-01 02:00:00  20                               \n",
       "2018-01-01 03:00:00  22                               \n",
       "2018-01-01 04:00:00  20                               "
      ]
     },
     "execution_count": 4,
     "metadata": {},
     "output_type": "execute_result"
    }
   ],
   "source": [
    "df.head()"
   ]
  },
  {
   "cell_type": "code",
   "execution_count": 5,
   "id": "7ca68919-97fa-4f07-a2f1-ba163d9f2fa2",
   "metadata": {
    "colab": {
     "base_uri": "https://localhost:8080/"
    },
    "id": "7ca68919-97fa-4f07-a2f1-ba163d9f2fa2",
    "outputId": "3d68a586-6438-433d-b73a-ea5d1584e20b"
   },
   "outputs": [
    {
     "data": {
      "text/plain": [
       "(2023128, 21)"
      ]
     },
     "execution_count": 5,
     "metadata": {},
     "output_type": "execute_result"
    }
   ],
   "source": [
    "df.shape"
   ]
  },
  {
   "cell_type": "code",
   "execution_count": 6,
   "id": "c8841476-d39c-4598-9655-8f793deaae81",
   "metadata": {
    "id": "c8841476-d39c-4598-9655-8f793deaae81"
   },
   "outputs": [],
   "source": [
    "numerical_columns = [\n",
    "    \"AMB_TEMP\",\n",
    "    \"CH4\",\n",
    "    \"CO\",\n",
    "    \"NMHC\",\n",
    "    \"NO\",\n",
    "    \"NO2\",\n",
    "    \"NOx\",\n",
    "    \"O3\",\n",
    "    \"PM10\",\n",
    "    \"PM2.5\",\n",
    "    \"RAINFALL\",\n",
    "    \"RH\",\n",
    "    \"SO2\",\n",
    "    \"THC\",\n",
    "    \"WD_HR\",\n",
    "    \"WIND_DIREC\",\n",
    "    \"WIND_SPEED\",\n",
    "    \"WS_HR\",\n",
    "]\n",
    "\n",
    "# drop missing labels and remove non-numeric values\n",
    "# #: invalid values detected by tools; *: invalid values detected by program; x: invalid values detected by humans\n",
    "df.dropna(how='any',axis=0,subset=['PM2.5'],inplace=True)\n",
    "\n",
    "for col in numerical_columns:\n",
    "    df[col] = pd.to_numeric(df[col], errors=\"coerce\")"
   ]
  },
  {
   "cell_type": "markdown",
   "id": "3ef9e041-2421-477e-9f68-cee0918c85fb",
   "metadata": {
    "id": "3ef9e041-2421-477e-9f68-cee0918c85fb"
   },
   "source": [
    "# Chanllenge 1: Missing values\n",
    "\n",
    "strategies:\n",
    "- fill missing values by mean of training data\n",
    "- Drop THC, CH4 and NMHC and fill other columns with the last valid value\n",
    "- Drop THC, CH4 and NMHC and fill other columns with mean"
   ]
  },
  {
   "cell_type": "code",
   "execution_count": 7,
   "id": "4f61176e-8d09-4abd-972b-f19820531388",
   "metadata": {
    "id": "4f61176e-8d09-4abd-972b-f19820531388"
   },
   "outputs": [],
   "source": [
    "# Preprocessing for the experiments\n",
    "def preprocessing(df, grouped=False, category_cols= []):\n",
    "    \n",
    "    # time_step for lstm\n",
    "    time_step = 1\n",
    "    \n",
    "    \n",
    "    if not grouped:\n",
    "        df = df.groupby([\"station\", pd.Grouper(freq=\"D\")]).mean()\n",
    "    \n",
    "    # shift labels for predictions\n",
    "    for station, d in df.groupby([\"station\"]):\n",
    "        df.loc[station, \"target\"] = d[\"PM2.5\"].shift(periods=-1).values\n",
    "    \n",
    "    # for every station drop the first values\n",
    "    df.dropna(how='any',axis=0,inplace=True)\n",
    "    \n",
    "    # encode rainfall if it is out of Q3 + 1.5 x IQR\n",
    "    Q1 = df.loc[df.index.get_level_values('time').year==2018, \"RAINFALL\"].quantile(0.25)\n",
    "    Q3 = df.loc[df.index.get_level_values('time').year==2018, \"RAINFALL\"].quantile(0.75)\n",
    "    IQR = Q3 - Q1\n",
    "\n",
    "    df[\"RAINFALL\"] = np.where(df[\"RAINFALL\"] < (Q3 + 1.5 * IQR), 1, 0)\n",
    "    \n",
    "    # Normalization of features\n",
    "    scaler = MinMaxScaler(feature_range=(-1,1))\n",
    "    scaler.fit(\n",
    "        df.loc[df.index.get_level_values('time').year==2018, :]\n",
    "        .drop([\"longitude\", \"latitude\", \"RAINFALL\",'PM2.5',\"target\"]+category_cols, axis=1)\n",
    "        .values\n",
    "    )\n",
    "\n",
    "    df[\n",
    "        df.drop([\"longitude\", \"latitude\", \"RAINFALL\",'PM2.5',\"target\"]+category_cols, axis=1).columns\n",
    "    ] = scaler.transform(df.drop([\"longitude\", \"latitude\", \"RAINFALL\",'PM2.5',\"target\"]+category_cols, axis=1).values)\n",
    "\n",
    "    # Normalization of labels\n",
    "    label_scaler = MinMaxScaler(feature_range=(-1,1))\n",
    "    label_scaler.fit(df.loc[df.index.get_level_values('time').year==2018, \"target\"].values.reshape(-1, 1))\n",
    "    df['target'] = label_scaler.transform(df['target'].values.reshape(-1, 1))\n",
    "    \n",
    "    train_X, train_Y = [], []\n",
    "    validation_X, validation_Y = [], []\n",
    "    test_X, test_Y = [], []\n",
    "\n",
    "    for station, d in df.groupby('station'):\n",
    "        # find the index of first day and last day of each years\n",
    "        first_train_date = d.index.get_loc(d.loc[d.index.get_level_values('time').year==2018].index[0])\n",
    "        last_train_date = d.index.get_loc(d.loc[d.index.get_level_values('time').year==2018].index[-1])\n",
    "        first_val_date = d.index.get_loc(d.loc[d.index.get_level_values('time').year==2019].index[0])\n",
    "        last_val_date = d.index.get_loc(d.loc[d.index.get_level_values('time').year==2019].index[-1])\n",
    "        first_test_date = d.index.get_loc(d.loc[d.index.get_level_values('time').year==2020].index[0])\n",
    "        last_test_date = d.index.get_loc(d.loc[d.index.get_level_values('time').year==2020].index[-1])\n",
    "        \n",
    "        # append previous time step values to fit lstm input format\n",
    "        for i in range(first_train_date + time_step, last_train_date+1):\n",
    "            indices = range(i - time_step, i, 1)\n",
    "            train_X.append(d.reset_index(drop=True).loc[indices].drop(['PM2.5','target'],axis=1).values)\n",
    "            train_Y.append(d.reset_index(drop=True).loc[i-1,'target'])\n",
    "        for i in range(first_val_date + time_step, last_val_date):\n",
    "            indices = range(i - time_step, i, 1)\n",
    "            validation_X.append(d.reset_index(drop=True).loc[indices].drop(['PM2.5','target'],axis=1).values)\n",
    "            validation_Y.append(d.reset_index(drop=True).loc[i-1,'target'])\n",
    "        for i in range(first_test_date + time_step, last_test_date):\n",
    "            indices = range(i - time_step, i, 1)\n",
    "            test_X.append(d.reset_index(drop=True).loc[indices].drop(['PM2.5','target'],axis=1))\n",
    "            test_Y.append(d.reset_index(drop=True).loc[i-1,'target'])\n",
    "    \n",
    "    return np.array(train_X), np.array(train_Y), np.array(validation_X), np.array(validation_Y), np.array(test_X), np.array(test_Y), label_scaler # return label scaler for recover result"
   ]
  },
  {
   "cell_type": "code",
   "execution_count": 8,
   "id": "461b40a5-f540-4f88-be0e-adf49abe20c2",
   "metadata": {
    "id": "461b40a5-f540-4f88-be0e-adf49abe20c2"
   },
   "outputs": [],
   "source": [
    "def train_lstm(train_X, train_Y, validation_X, validation_Y):\n",
    "\n",
    "    # building models\n",
    "    model = Sequential()\n",
    "    model.add(LSTM(50, input_shape=(train_X.shape[1], train_X.shape[2])))\n",
    "    model.add(Dense(1))\n",
    "    model.compile(loss='mae', optimizer='Adam')\n",
    "    \n",
    "    # if out of memory, lower the batch_size\n",
    "    history = model.fit(train_X, train_Y, epochs=200, batch_size=256, validation_data=(validation_X, validation_Y), verbose=2, shuffle=True)\n",
    "    \n",
    "    return model, history"
   ]
  },
  {
   "cell_type": "code",
   "execution_count": 9,
   "id": "a6f9f1cf-1786-436c-98e9-962f03c8f82a",
   "metadata": {
    "id": "a6f9f1cf-1786-436c-98e9-962f03c8f82a"
   },
   "outputs": [],
   "source": [
    "# helper function for plot experiment result\n",
    "def plot_result(X, True_Y, model, title):\n",
    "\n",
    "    pred = model.predict(X)\n",
    "    \n",
    "    pred = label_scaler.inverse_transform(pred.reshape(-1,1))\n",
    "    True_Y = label_scaler.inverse_transform(True_Y.reshape(-1,1))\n",
    "\n",
    "    plt.figure(figsize=(15,12))\n",
    "    plt.plot(pred[:200], label='prediction')\n",
    "    plt.plot(True_Y[:200], label='True label')\n",
    "    plt.title(title)\n",
    "    plt.legend()\n",
    "    plt.show()\n",
    "    \n",
    "    return mean_absolute_error(True_Y, pred)"
   ]
  },
  {
   "cell_type": "code",
   "execution_count": 10,
   "id": "53e3d8e2-8f52-41b5-be1e-2ae26e54e5c9",
   "metadata": {},
   "outputs": [],
   "source": [
    "# helper function for plot training loss\n",
    "def plot_loss(history, title):\n",
    "    plt.plot(history.history['loss'], label='train')\n",
    "    plt.plot(history.history['val_loss'], label='validation')\n",
    "    plt.title(title)\n",
    "    plt.legend()\n",
    "    plt.show()"
   ]
  },
  {
   "cell_type": "code",
   "execution_count": 11,
   "id": "91efe7d2-6704-4e7b-ab8d-3e06f5644e02",
   "metadata": {
    "id": "91efe7d2-6704-4e7b-ab8d-3e06f5644e02"
   },
   "outputs": [],
   "source": [
    "# Method 1: fill missing values by mean of training data\n",
    "df1 = df.copy()\n",
    "\n",
    "for col in numerical_columns:\n",
    "    train_mean = df1.loc[\"2018\", col].mean()\n",
    "    df1.fillna(train_mean,inplace=True)\n",
    "\n",
    "(\n",
    "    train_X,\n",
    "    train_Y,\n",
    "    validation_X,\n",
    "    validation_Y,\n",
    "    test_X,\n",
    "    test_Y,\n",
    "    label_scaler\n",
    ") = preprocessing(df1)\n"
   ]
  },
  {
   "cell_type": "code",
   "execution_count": 12,
   "id": "b0c423d3-ea5b-4bdd-b4ff-d51044fe53c6",
   "metadata": {
    "colab": {
     "base_uri": "https://localhost:8080/"
    },
    "id": "b0c423d3-ea5b-4bdd-b4ff-d51044fe53c6",
    "outputId": "cedc9ed7-423b-44d8-aa11-d68f34bbcdd5",
    "scrolled": true
   },
   "outputs": [
    {
     "name": "stdout",
     "output_type": "stream",
     "text": [
      "Epoch 1/200\n",
      "110/110 - 4s - loss: 0.2185 - val_loss: 0.0480 - 4s/epoch - 38ms/step\n",
      "Epoch 2/200\n",
      "110/110 - 1s - loss: 0.0508 - val_loss: 0.0447 - 611ms/epoch - 6ms/step\n",
      "Epoch 3/200\n",
      "110/110 - 1s - loss: 0.0475 - val_loss: 0.0413 - 630ms/epoch - 6ms/step\n",
      "Epoch 4/200\n",
      "110/110 - 1s - loss: 0.0457 - val_loss: 0.0402 - 616ms/epoch - 6ms/step\n",
      "Epoch 5/200\n",
      "110/110 - 1s - loss: 0.0448 - val_loss: 0.0389 - 604ms/epoch - 5ms/step\n",
      "Epoch 6/200\n",
      "110/110 - 1s - loss: 0.0445 - val_loss: 0.0388 - 598ms/epoch - 5ms/step\n",
      "Epoch 7/200\n",
      "110/110 - 1s - loss: 0.0445 - val_loss: 0.0385 - 628ms/epoch - 6ms/step\n",
      "Epoch 8/200\n",
      "110/110 - 1s - loss: 0.0440 - val_loss: 0.0388 - 610ms/epoch - 6ms/step\n",
      "Epoch 9/200\n",
      "110/110 - 1s - loss: 0.0439 - val_loss: 0.0387 - 601ms/epoch - 5ms/step\n",
      "Epoch 10/200\n",
      "110/110 - 1s - loss: 0.0439 - val_loss: 0.0382 - 599ms/epoch - 5ms/step\n",
      "Epoch 11/200\n",
      "110/110 - 1s - loss: 0.0437 - val_loss: 0.0385 - 623ms/epoch - 6ms/step\n",
      "Epoch 12/200\n",
      "110/110 - 1s - loss: 0.0433 - val_loss: 0.0379 - 613ms/epoch - 6ms/step\n",
      "Epoch 13/200\n",
      "110/110 - 1s - loss: 0.0432 - val_loss: 0.0382 - 617ms/epoch - 6ms/step\n",
      "Epoch 14/200\n",
      "110/110 - 1s - loss: 0.0439 - val_loss: 0.0383 - 640ms/epoch - 6ms/step\n",
      "Epoch 15/200\n",
      "110/110 - 1s - loss: 0.0432 - val_loss: 0.0379 - 627ms/epoch - 6ms/step\n",
      "Epoch 16/200\n",
      "110/110 - 1s - loss: 0.0430 - val_loss: 0.0378 - 634ms/epoch - 6ms/step\n",
      "Epoch 17/200\n",
      "110/110 - 1s - loss: 0.0428 - val_loss: 0.0373 - 629ms/epoch - 6ms/step\n",
      "Epoch 18/200\n",
      "110/110 - 1s - loss: 0.0427 - val_loss: 0.0418 - 627ms/epoch - 6ms/step\n",
      "Epoch 19/200\n",
      "110/110 - 1s - loss: 0.0425 - val_loss: 0.0376 - 683ms/epoch - 6ms/step\n",
      "Epoch 20/200\n",
      "110/110 - 1s - loss: 0.0424 - val_loss: 0.0386 - 635ms/epoch - 6ms/step\n",
      "Epoch 21/200\n",
      "110/110 - 1s - loss: 0.0424 - val_loss: 0.0401 - 624ms/epoch - 6ms/step\n",
      "Epoch 22/200\n",
      "110/110 - 1s - loss: 0.0423 - val_loss: 0.0378 - 624ms/epoch - 6ms/step\n",
      "Epoch 23/200\n",
      "110/110 - 1s - loss: 0.0420 - val_loss: 0.0371 - 615ms/epoch - 6ms/step\n",
      "Epoch 24/200\n",
      "110/110 - 1s - loss: 0.0423 - val_loss: 0.0383 - 639ms/epoch - 6ms/step\n",
      "Epoch 25/200\n",
      "110/110 - 1s - loss: 0.0419 - val_loss: 0.0366 - 623ms/epoch - 6ms/step\n",
      "Epoch 26/200\n",
      "110/110 - 1s - loss: 0.0416 - val_loss: 0.0374 - 619ms/epoch - 6ms/step\n",
      "Epoch 27/200\n",
      "110/110 - 1s - loss: 0.0421 - val_loss: 0.0375 - 628ms/epoch - 6ms/step\n",
      "Epoch 28/200\n",
      "110/110 - 1s - loss: 0.0415 - val_loss: 0.0362 - 623ms/epoch - 6ms/step\n",
      "Epoch 29/200\n",
      "110/110 - 1s - loss: 0.0411 - val_loss: 0.0362 - 610ms/epoch - 6ms/step\n",
      "Epoch 30/200\n",
      "110/110 - 1s - loss: 0.0413 - val_loss: 0.0391 - 618ms/epoch - 6ms/step\n",
      "Epoch 31/200\n",
      "110/110 - 1s - loss: 0.0408 - val_loss: 0.0369 - 622ms/epoch - 6ms/step\n",
      "Epoch 32/200\n",
      "110/110 - 1s - loss: 0.0408 - val_loss: 0.0383 - 609ms/epoch - 6ms/step\n",
      "Epoch 33/200\n",
      "110/110 - 1s - loss: 0.0414 - val_loss: 0.0362 - 618ms/epoch - 6ms/step\n",
      "Epoch 34/200\n",
      "110/110 - 1s - loss: 0.0411 - val_loss: 0.0357 - 642ms/epoch - 6ms/step\n",
      "Epoch 35/200\n",
      "110/110 - 1s - loss: 0.0408 - val_loss: 0.0368 - 619ms/epoch - 6ms/step\n",
      "Epoch 36/200\n",
      "110/110 - 1s - loss: 0.0408 - val_loss: 0.0386 - 627ms/epoch - 6ms/step\n",
      "Epoch 37/200\n",
      "110/110 - 1s - loss: 0.0414 - val_loss: 0.0408 - 698ms/epoch - 6ms/step\n",
      "Epoch 38/200\n",
      "110/110 - 1s - loss: 0.0408 - val_loss: 0.0358 - 617ms/epoch - 6ms/step\n",
      "Epoch 39/200\n",
      "110/110 - 1s - loss: 0.0406 - val_loss: 0.0360 - 624ms/epoch - 6ms/step\n",
      "Epoch 40/200\n",
      "110/110 - 1s - loss: 0.0403 - val_loss: 0.0356 - 641ms/epoch - 6ms/step\n",
      "Epoch 41/200\n",
      "110/110 - 1s - loss: 0.0404 - val_loss: 0.0372 - 621ms/epoch - 6ms/step\n",
      "Epoch 42/200\n",
      "110/110 - 1s - loss: 0.0403 - val_loss: 0.0351 - 619ms/epoch - 6ms/step\n",
      "Epoch 43/200\n",
      "110/110 - 1s - loss: 0.0401 - val_loss: 0.0365 - 676ms/epoch - 6ms/step\n",
      "Epoch 44/200\n",
      "110/110 - 1s - loss: 0.0397 - val_loss: 0.0349 - 631ms/epoch - 6ms/step\n",
      "Epoch 45/200\n",
      "110/110 - 1s - loss: 0.0401 - val_loss: 0.0379 - 610ms/epoch - 6ms/step\n",
      "Epoch 46/200\n",
      "110/110 - 1s - loss: 0.0399 - val_loss: 0.0360 - 647ms/epoch - 6ms/step\n",
      "Epoch 47/200\n",
      "110/110 - 1s - loss: 0.0398 - val_loss: 0.0382 - 673ms/epoch - 6ms/step\n",
      "Epoch 48/200\n",
      "110/110 - 1s - loss: 0.0397 - val_loss: 0.0350 - 667ms/epoch - 6ms/step\n",
      "Epoch 49/200\n",
      "110/110 - 1s - loss: 0.0398 - val_loss: 0.0374 - 654ms/epoch - 6ms/step\n",
      "Epoch 50/200\n",
      "110/110 - 1s - loss: 0.0404 - val_loss: 0.0357 - 620ms/epoch - 6ms/step\n",
      "Epoch 51/200\n",
      "110/110 - 1s - loss: 0.0398 - val_loss: 0.0352 - 648ms/epoch - 6ms/step\n",
      "Epoch 52/200\n",
      "110/110 - 1s - loss: 0.0394 - val_loss: 0.0354 - 637ms/epoch - 6ms/step\n",
      "Epoch 53/200\n",
      "110/110 - 1s - loss: 0.0393 - val_loss: 0.0349 - 655ms/epoch - 6ms/step\n",
      "Epoch 54/200\n",
      "110/110 - 1s - loss: 0.0396 - val_loss: 0.0355 - 647ms/epoch - 6ms/step\n",
      "Epoch 55/200\n",
      "110/110 - 1s - loss: 0.0396 - val_loss: 0.0348 - 614ms/epoch - 6ms/step\n",
      "Epoch 56/200\n",
      "110/110 - 1s - loss: 0.0392 - val_loss: 0.0359 - 615ms/epoch - 6ms/step\n",
      "Epoch 57/200\n",
      "110/110 - 1s - loss: 0.0394 - val_loss: 0.0372 - 628ms/epoch - 6ms/step\n",
      "Epoch 58/200\n",
      "110/110 - 1s - loss: 0.0393 - val_loss: 0.0362 - 614ms/epoch - 6ms/step\n",
      "Epoch 59/200\n",
      "110/110 - 1s - loss: 0.0398 - val_loss: 0.0375 - 604ms/epoch - 5ms/step\n",
      "Epoch 60/200\n",
      "110/110 - 1s - loss: 0.0390 - val_loss: 0.0379 - 618ms/epoch - 6ms/step\n",
      "Epoch 61/200\n",
      "110/110 - 1s - loss: 0.0399 - val_loss: 0.0348 - 619ms/epoch - 6ms/step\n",
      "Epoch 62/200\n",
      "110/110 - 1s - loss: 0.0394 - val_loss: 0.0347 - 625ms/epoch - 6ms/step\n",
      "Epoch 63/200\n",
      "110/110 - 1s - loss: 0.0392 - val_loss: 0.0347 - 608ms/epoch - 6ms/step\n",
      "Epoch 64/200\n",
      "110/110 - 1s - loss: 0.0390 - val_loss: 0.0361 - 623ms/epoch - 6ms/step\n",
      "Epoch 65/200\n",
      "110/110 - 1s - loss: 0.0389 - val_loss: 0.0353 - 606ms/epoch - 6ms/step\n",
      "Epoch 66/200\n",
      "110/110 - 1s - loss: 0.0399 - val_loss: 0.0378 - 601ms/epoch - 5ms/step\n",
      "Epoch 67/200\n",
      "110/110 - 1s - loss: 0.0396 - val_loss: 0.0351 - 680ms/epoch - 6ms/step\n",
      "Epoch 68/200\n",
      "110/110 - 1s - loss: 0.0388 - val_loss: 0.0349 - 618ms/epoch - 6ms/step\n",
      "Epoch 69/200\n",
      "110/110 - 1s - loss: 0.0392 - val_loss: 0.0350 - 613ms/epoch - 6ms/step\n",
      "Epoch 70/200\n",
      "110/110 - 1s - loss: 0.0387 - val_loss: 0.0386 - 636ms/epoch - 6ms/step\n",
      "Epoch 71/200\n",
      "110/110 - 1s - loss: 0.0388 - val_loss: 0.0356 - 620ms/epoch - 6ms/step\n",
      "Epoch 72/200\n",
      "110/110 - 1s - loss: 0.0401 - val_loss: 0.0362 - 605ms/epoch - 5ms/step\n",
      "Epoch 73/200\n",
      "110/110 - 1s - loss: 0.0390 - val_loss: 0.0345 - 622ms/epoch - 6ms/step\n",
      "Epoch 74/200\n",
      "110/110 - 1s - loss: 0.0391 - val_loss: 0.0343 - 619ms/epoch - 6ms/step\n",
      "Epoch 75/200\n",
      "110/110 - 1s - loss: 0.0390 - val_loss: 0.0399 - 608ms/epoch - 6ms/step\n",
      "Epoch 76/200\n",
      "110/110 - 1s - loss: 0.0393 - val_loss: 0.0343 - 612ms/epoch - 6ms/step\n",
      "Epoch 77/200\n",
      "110/110 - 1s - loss: 0.0389 - val_loss: 0.0347 - 617ms/epoch - 6ms/step\n",
      "Epoch 78/200\n",
      "110/110 - 1s - loss: 0.0396 - val_loss: 0.0403 - 601ms/epoch - 5ms/step\n",
      "Epoch 79/200\n",
      "110/110 - 1s - loss: 0.0389 - val_loss: 0.0346 - 601ms/epoch - 5ms/step\n",
      "Epoch 80/200\n",
      "110/110 - 1s - loss: 0.0390 - val_loss: 0.0349 - 616ms/epoch - 6ms/step\n",
      "Epoch 81/200\n",
      "110/110 - 1s - loss: 0.0392 - val_loss: 0.0344 - 618ms/epoch - 6ms/step\n",
      "Epoch 82/200\n",
      "110/110 - 1s - loss: 0.0391 - val_loss: 0.0347 - 607ms/epoch - 6ms/step\n",
      "Epoch 83/200\n",
      "110/110 - 1s - loss: 0.0383 - val_loss: 0.0342 - 612ms/epoch - 6ms/step\n",
      "Epoch 84/200\n",
      "110/110 - 1s - loss: 0.0390 - val_loss: 0.0349 - 630ms/epoch - 6ms/step\n",
      "Epoch 85/200\n",
      "110/110 - 1s - loss: 0.0387 - val_loss: 0.0354 - 619ms/epoch - 6ms/step\n",
      "Epoch 86/200\n",
      "110/110 - 1s - loss: 0.0390 - val_loss: 0.0353 - 642ms/epoch - 6ms/step\n",
      "Epoch 87/200\n",
      "110/110 - 1s - loss: 0.0385 - val_loss: 0.0343 - 663ms/epoch - 6ms/step\n",
      "Epoch 88/200\n",
      "110/110 - 1s - loss: 0.0389 - val_loss: 0.0343 - 665ms/epoch - 6ms/step\n",
      "Epoch 89/200\n",
      "110/110 - 1s - loss: 0.0392 - val_loss: 0.0352 - 721ms/epoch - 7ms/step\n",
      "Epoch 90/200\n",
      "110/110 - 1s - loss: 0.0386 - val_loss: 0.0392 - 644ms/epoch - 6ms/step\n",
      "Epoch 91/200\n",
      "110/110 - 1s - loss: 0.0405 - val_loss: 0.0354 - 646ms/epoch - 6ms/step\n",
      "Epoch 92/200\n",
      "110/110 - 1s - loss: 0.0387 - val_loss: 0.0344 - 623ms/epoch - 6ms/step\n",
      "Epoch 93/200\n",
      "110/110 - 1s - loss: 0.0386 - val_loss: 0.0347 - 629ms/epoch - 6ms/step\n",
      "Epoch 94/200\n",
      "110/110 - 1s - loss: 0.0384 - val_loss: 0.0360 - 613ms/epoch - 6ms/step\n",
      "Epoch 95/200\n",
      "110/110 - 1s - loss: 0.0388 - val_loss: 0.0344 - 654ms/epoch - 6ms/step\n",
      "Epoch 96/200\n",
      "110/110 - 1s - loss: 0.0392 - val_loss: 0.0353 - 654ms/epoch - 6ms/step\n",
      "Epoch 97/200\n",
      "110/110 - 1s - loss: 0.0390 - val_loss: 0.0361 - 689ms/epoch - 6ms/step\n",
      "Epoch 98/200\n",
      "110/110 - 1s - loss: 0.0389 - val_loss: 0.0349 - 627ms/epoch - 6ms/step\n",
      "Epoch 99/200\n",
      "110/110 - 1s - loss: 0.0387 - val_loss: 0.0343 - 620ms/epoch - 6ms/step\n",
      "Epoch 100/200\n",
      "110/110 - 1s - loss: 0.0382 - val_loss: 0.0355 - 636ms/epoch - 6ms/step\n",
      "Epoch 101/200\n",
      "110/110 - 1s - loss: 0.0392 - val_loss: 0.0343 - 622ms/epoch - 6ms/step\n",
      "Epoch 102/200\n",
      "110/110 - 1s - loss: 0.0386 - val_loss: 0.0344 - 648ms/epoch - 6ms/step\n",
      "Epoch 103/200\n",
      "110/110 - 1s - loss: 0.0386 - val_loss: 0.0352 - 630ms/epoch - 6ms/step\n",
      "Epoch 104/200\n",
      "110/110 - 1s - loss: 0.0387 - val_loss: 0.0347 - 621ms/epoch - 6ms/step\n",
      "Epoch 105/200\n",
      "110/110 - 1s - loss: 0.0383 - val_loss: 0.0359 - 627ms/epoch - 6ms/step\n",
      "Epoch 106/200\n",
      "110/110 - 1s - loss: 0.0383 - val_loss: 0.0352 - 640ms/epoch - 6ms/step\n",
      "Epoch 107/200\n",
      "110/110 - 1s - loss: 0.0382 - val_loss: 0.0344 - 628ms/epoch - 6ms/step\n",
      "Epoch 108/200\n",
      "110/110 - 1s - loss: 0.0386 - val_loss: 0.0367 - 612ms/epoch - 6ms/step\n",
      "Epoch 109/200\n",
      "110/110 - 1s - loss: 0.0396 - val_loss: 0.0356 - 623ms/epoch - 6ms/step\n",
      "Epoch 110/200\n",
      "110/110 - 1s - loss: 0.0388 - val_loss: 0.0345 - 623ms/epoch - 6ms/step\n",
      "Epoch 111/200\n",
      "110/110 - 1s - loss: 0.0385 - val_loss: 0.0343 - 619ms/epoch - 6ms/step\n",
      "Epoch 112/200\n",
      "110/110 - 1s - loss: 0.0384 - val_loss: 0.0351 - 615ms/epoch - 6ms/step\n",
      "Epoch 113/200\n",
      "110/110 - 1s - loss: 0.0386 - val_loss: 0.0340 - 637ms/epoch - 6ms/step\n",
      "Epoch 114/200\n",
      "110/110 - 1s - loss: 0.0387 - val_loss: 0.0344 - 667ms/epoch - 6ms/step\n",
      "Epoch 115/200\n",
      "110/110 - 1s - loss: 0.0383 - val_loss: 0.0341 - 614ms/epoch - 6ms/step\n",
      "Epoch 116/200\n",
      "110/110 - 1s - loss: 0.0385 - val_loss: 0.0341 - 669ms/epoch - 6ms/step\n",
      "Epoch 117/200\n",
      "110/110 - 1s - loss: 0.0384 - val_loss: 0.0346 - 638ms/epoch - 6ms/step\n",
      "Epoch 118/200\n",
      "110/110 - 1s - loss: 0.0387 - val_loss: 0.0346 - 625ms/epoch - 6ms/step\n",
      "Epoch 119/200\n",
      "110/110 - 1s - loss: 0.0383 - val_loss: 0.0345 - 643ms/epoch - 6ms/step\n",
      "Epoch 120/200\n",
      "110/110 - 1s - loss: 0.0384 - val_loss: 0.0346 - 632ms/epoch - 6ms/step\n",
      "Epoch 121/200\n",
      "110/110 - 1s - loss: 0.0386 - val_loss: 0.0402 - 635ms/epoch - 6ms/step\n",
      "Epoch 122/200\n",
      "110/110 - 1s - loss: 0.0385 - val_loss: 0.0351 - 631ms/epoch - 6ms/step\n",
      "Epoch 123/200\n",
      "110/110 - 1s - loss: 0.0381 - val_loss: 0.0345 - 615ms/epoch - 6ms/step\n",
      "Epoch 124/200\n",
      "110/110 - 1s - loss: 0.0382 - val_loss: 0.0388 - 623ms/epoch - 6ms/step\n",
      "Epoch 125/200\n",
      "110/110 - 1s - loss: 0.0380 - val_loss: 0.0406 - 638ms/epoch - 6ms/step\n",
      "Epoch 126/200\n",
      "110/110 - 1s - loss: 0.0388 - val_loss: 0.0346 - 654ms/epoch - 6ms/step\n",
      "Epoch 127/200\n",
      "110/110 - 1s - loss: 0.0381 - val_loss: 0.0342 - 606ms/epoch - 6ms/step\n",
      "Epoch 128/200\n",
      "110/110 - 1s - loss: 0.0382 - val_loss: 0.0338 - 608ms/epoch - 6ms/step\n",
      "Epoch 129/200\n",
      "110/110 - 1s - loss: 0.0387 - val_loss: 0.0345 - 625ms/epoch - 6ms/step\n",
      "Epoch 130/200\n",
      "110/110 - 1s - loss: 0.0379 - val_loss: 0.0364 - 613ms/epoch - 6ms/step\n",
      "Epoch 131/200\n",
      "110/110 - 1s - loss: 0.0380 - val_loss: 0.0349 - 626ms/epoch - 6ms/step\n",
      "Epoch 132/200\n",
      "110/110 - 1s - loss: 0.0384 - val_loss: 0.0339 - 629ms/epoch - 6ms/step\n",
      "Epoch 133/200\n",
      "110/110 - 1s - loss: 0.0382 - val_loss: 0.0339 - 615ms/epoch - 6ms/step\n",
      "Epoch 134/200\n",
      "110/110 - 1s - loss: 0.0381 - val_loss: 0.0362 - 608ms/epoch - 6ms/step\n",
      "Epoch 135/200\n",
      "110/110 - 1s - loss: 0.0384 - val_loss: 0.0406 - 619ms/epoch - 6ms/step\n",
      "Epoch 136/200\n",
      "110/110 - 1s - loss: 0.0385 - val_loss: 0.0347 - 627ms/epoch - 6ms/step\n",
      "Epoch 137/200\n",
      "110/110 - 1s - loss: 0.0381 - val_loss: 0.0350 - 619ms/epoch - 6ms/step\n",
      "Epoch 138/200\n",
      "110/110 - 1s - loss: 0.0386 - val_loss: 0.0363 - 685ms/epoch - 6ms/step\n",
      "Epoch 139/200\n",
      "110/110 - 1s - loss: 0.0383 - val_loss: 0.0344 - 621ms/epoch - 6ms/step\n",
      "Epoch 140/200\n",
      "110/110 - 1s - loss: 0.0381 - val_loss: 0.0337 - 660ms/epoch - 6ms/step\n",
      "Epoch 141/200\n",
      "110/110 - 1s - loss: 0.0379 - val_loss: 0.0338 - 682ms/epoch - 6ms/step\n",
      "Epoch 142/200\n",
      "110/110 - 1s - loss: 0.0379 - val_loss: 0.0339 - 621ms/epoch - 6ms/step\n",
      "Epoch 143/200\n",
      "110/110 - 1s - loss: 0.0381 - val_loss: 0.0338 - 610ms/epoch - 6ms/step\n",
      "Epoch 144/200\n",
      "110/110 - 1s - loss: 0.0381 - val_loss: 0.0339 - 642ms/epoch - 6ms/step\n",
      "Epoch 145/200\n",
      "110/110 - 1s - loss: 0.0378 - val_loss: 0.0382 - 657ms/epoch - 6ms/step\n",
      "Epoch 146/200\n",
      "110/110 - 1s - loss: 0.0382 - val_loss: 0.0337 - 637ms/epoch - 6ms/step\n",
      "Epoch 147/200\n",
      "110/110 - 1s - loss: 0.0387 - val_loss: 0.0361 - 658ms/epoch - 6ms/step\n",
      "Epoch 148/200\n",
      "110/110 - 1s - loss: 0.0384 - val_loss: 0.0344 - 624ms/epoch - 6ms/step\n",
      "Epoch 149/200\n",
      "110/110 - 1s - loss: 0.0384 - val_loss: 0.0337 - 607ms/epoch - 6ms/step\n",
      "Epoch 150/200\n",
      "110/110 - 1s - loss: 0.0380 - val_loss: 0.0345 - 607ms/epoch - 6ms/step\n",
      "Epoch 151/200\n",
      "110/110 - 1s - loss: 0.0381 - val_loss: 0.0357 - 613ms/epoch - 6ms/step\n",
      "Epoch 152/200\n",
      "110/110 - 1s - loss: 0.0380 - val_loss: 0.0409 - 632ms/epoch - 6ms/step\n",
      "Epoch 153/200\n",
      "110/110 - 1s - loss: 0.0384 - val_loss: 0.0343 - 611ms/epoch - 6ms/step\n",
      "Epoch 154/200\n",
      "110/110 - 1s - loss: 0.0379 - val_loss: 0.0344 - 672ms/epoch - 6ms/step\n",
      "Epoch 155/200\n",
      "110/110 - 1s - loss: 0.0381 - val_loss: 0.0339 - 680ms/epoch - 6ms/step\n",
      "Epoch 156/200\n",
      "110/110 - 1s - loss: 0.0379 - val_loss: 0.0340 - 656ms/epoch - 6ms/step\n",
      "Epoch 157/200\n",
      "110/110 - 1s - loss: 0.0378 - val_loss: 0.0348 - 695ms/epoch - 6ms/step\n",
      "Epoch 158/200\n",
      "110/110 - 1s - loss: 0.0382 - val_loss: 0.0388 - 648ms/epoch - 6ms/step\n",
      "Epoch 159/200\n",
      "110/110 - 1s - loss: 0.0387 - val_loss: 0.0339 - 626ms/epoch - 6ms/step\n",
      "Epoch 160/200\n",
      "110/110 - 1s - loss: 0.0383 - val_loss: 0.0345 - 624ms/epoch - 6ms/step\n",
      "Epoch 161/200\n",
      "110/110 - 1s - loss: 0.0382 - val_loss: 0.0339 - 697ms/epoch - 6ms/step\n",
      "Epoch 162/200\n",
      "110/110 - 1s - loss: 0.0379 - val_loss: 0.0336 - 662ms/epoch - 6ms/step\n",
      "Epoch 163/200\n",
      "110/110 - 1s - loss: 0.0378 - val_loss: 0.0343 - 630ms/epoch - 6ms/step\n",
      "Epoch 164/200\n",
      "110/110 - 1s - loss: 0.0380 - val_loss: 0.0373 - 669ms/epoch - 6ms/step\n",
      "Epoch 165/200\n",
      "110/110 - 1s - loss: 0.0378 - val_loss: 0.0343 - 665ms/epoch - 6ms/step\n",
      "Epoch 166/200\n"
     ]
    },
    {
     "ename": "KeyboardInterrupt",
     "evalue": "",
     "output_type": "error",
     "traceback": [
      "\u001b[1;31m---------------------------------------------------------------------------\u001b[0m",
      "\u001b[1;31mKeyboardInterrupt\u001b[0m                         Traceback (most recent call last)",
      "Input \u001b[1;32mIn [12]\u001b[0m, in \u001b[0;36m<cell line: 2>\u001b[1;34m()\u001b[0m\n\u001b[0;32m      1\u001b[0m \u001b[38;5;66;03m# training\u001b[39;00m\n\u001b[1;32m----> 2\u001b[0m model, history \u001b[38;5;241m=\u001b[39m train_lstm(train_X,train_Y,validation_X,validation_Y)\n",
      "Input \u001b[1;32mIn [8]\u001b[0m, in \u001b[0;36mtrain_lstm\u001b[1;34m(train_X, train_Y, validation_X, validation_Y)\u001b[0m\n\u001b[0;32m      7\u001b[0m model\u001b[38;5;241m.\u001b[39mcompile(loss\u001b[38;5;241m=\u001b[39m\u001b[38;5;124m'\u001b[39m\u001b[38;5;124mmae\u001b[39m\u001b[38;5;124m'\u001b[39m, optimizer\u001b[38;5;241m=\u001b[39m\u001b[38;5;124m'\u001b[39m\u001b[38;5;124mAdam\u001b[39m\u001b[38;5;124m'\u001b[39m)\n\u001b[0;32m      9\u001b[0m \u001b[38;5;66;03m# if out of memory, lower the batch_size\u001b[39;00m\n\u001b[1;32m---> 10\u001b[0m history \u001b[38;5;241m=\u001b[39m \u001b[43mmodel\u001b[49m\u001b[38;5;241;43m.\u001b[39;49m\u001b[43mfit\u001b[49m\u001b[43m(\u001b[49m\u001b[43mtrain_X\u001b[49m\u001b[43m,\u001b[49m\u001b[43m \u001b[49m\u001b[43mtrain_Y\u001b[49m\u001b[43m,\u001b[49m\u001b[43m \u001b[49m\u001b[43mepochs\u001b[49m\u001b[38;5;241;43m=\u001b[39;49m\u001b[38;5;241;43m200\u001b[39;49m\u001b[43m,\u001b[49m\u001b[43m \u001b[49m\u001b[43mbatch_size\u001b[49m\u001b[38;5;241;43m=\u001b[39;49m\u001b[38;5;241;43m256\u001b[39;49m\u001b[43m,\u001b[49m\u001b[43m \u001b[49m\u001b[43mvalidation_data\u001b[49m\u001b[38;5;241;43m=\u001b[39;49m\u001b[43m(\u001b[49m\u001b[43mvalidation_X\u001b[49m\u001b[43m,\u001b[49m\u001b[43m \u001b[49m\u001b[43mvalidation_Y\u001b[49m\u001b[43m)\u001b[49m\u001b[43m,\u001b[49m\u001b[43m \u001b[49m\u001b[43mverbose\u001b[49m\u001b[38;5;241;43m=\u001b[39;49m\u001b[38;5;241;43m2\u001b[39;49m\u001b[43m,\u001b[49m\u001b[43m \u001b[49m\u001b[43mshuffle\u001b[49m\u001b[38;5;241;43m=\u001b[39;49m\u001b[38;5;28;43;01mTrue\u001b[39;49;00m\u001b[43m)\u001b[49m\n\u001b[0;32m     12\u001b[0m \u001b[38;5;28;01mreturn\u001b[39;00m model, history\n",
      "File \u001b[1;32m~\\anaconda3\\envs\\ai539-project\\lib\\site-packages\\keras\\utils\\traceback_utils.py:64\u001b[0m, in \u001b[0;36mfilter_traceback.<locals>.error_handler\u001b[1;34m(*args, **kwargs)\u001b[0m\n\u001b[0;32m     62\u001b[0m filtered_tb \u001b[38;5;241m=\u001b[39m \u001b[38;5;28;01mNone\u001b[39;00m\n\u001b[0;32m     63\u001b[0m \u001b[38;5;28;01mtry\u001b[39;00m:\n\u001b[1;32m---> 64\u001b[0m   \u001b[38;5;28;01mreturn\u001b[39;00m fn(\u001b[38;5;241m*\u001b[39margs, \u001b[38;5;241m*\u001b[39m\u001b[38;5;241m*\u001b[39mkwargs)\n\u001b[0;32m     65\u001b[0m \u001b[38;5;28;01mexcept\u001b[39;00m \u001b[38;5;167;01mException\u001b[39;00m \u001b[38;5;28;01mas\u001b[39;00m e:  \u001b[38;5;66;03m# pylint: disable=broad-except\u001b[39;00m\n\u001b[0;32m     66\u001b[0m   filtered_tb \u001b[38;5;241m=\u001b[39m _process_traceback_frames(e\u001b[38;5;241m.\u001b[39m__traceback__)\n",
      "File \u001b[1;32m~\\anaconda3\\envs\\ai539-project\\lib\\site-packages\\keras\\engine\\training.py:1384\u001b[0m, in \u001b[0;36mModel.fit\u001b[1;34m(self, x, y, batch_size, epochs, verbose, callbacks, validation_split, validation_data, shuffle, class_weight, sample_weight, initial_epoch, steps_per_epoch, validation_steps, validation_batch_size, validation_freq, max_queue_size, workers, use_multiprocessing)\u001b[0m\n\u001b[0;32m   1377\u001b[0m \u001b[38;5;28;01mwith\u001b[39;00m tf\u001b[38;5;241m.\u001b[39mprofiler\u001b[38;5;241m.\u001b[39mexperimental\u001b[38;5;241m.\u001b[39mTrace(\n\u001b[0;32m   1378\u001b[0m     \u001b[38;5;124m'\u001b[39m\u001b[38;5;124mtrain\u001b[39m\u001b[38;5;124m'\u001b[39m,\n\u001b[0;32m   1379\u001b[0m     epoch_num\u001b[38;5;241m=\u001b[39mepoch,\n\u001b[0;32m   1380\u001b[0m     step_num\u001b[38;5;241m=\u001b[39mstep,\n\u001b[0;32m   1381\u001b[0m     batch_size\u001b[38;5;241m=\u001b[39mbatch_size,\n\u001b[0;32m   1382\u001b[0m     _r\u001b[38;5;241m=\u001b[39m\u001b[38;5;241m1\u001b[39m):\n\u001b[0;32m   1383\u001b[0m   callbacks\u001b[38;5;241m.\u001b[39mon_train_batch_begin(step)\n\u001b[1;32m-> 1384\u001b[0m   tmp_logs \u001b[38;5;241m=\u001b[39m \u001b[38;5;28;43mself\u001b[39;49m\u001b[38;5;241;43m.\u001b[39;49m\u001b[43mtrain_function\u001b[49m\u001b[43m(\u001b[49m\u001b[43miterator\u001b[49m\u001b[43m)\u001b[49m\n\u001b[0;32m   1385\u001b[0m   \u001b[38;5;28;01mif\u001b[39;00m data_handler\u001b[38;5;241m.\u001b[39mshould_sync:\n\u001b[0;32m   1386\u001b[0m     context\u001b[38;5;241m.\u001b[39masync_wait()\n",
      "File \u001b[1;32m~\\AppData\\Roaming\\Python\\Python39\\site-packages\\tensorflow\\python\\util\\traceback_utils.py:150\u001b[0m, in \u001b[0;36mfilter_traceback.<locals>.error_handler\u001b[1;34m(*args, **kwargs)\u001b[0m\n\u001b[0;32m    148\u001b[0m filtered_tb \u001b[38;5;241m=\u001b[39m \u001b[38;5;28;01mNone\u001b[39;00m\n\u001b[0;32m    149\u001b[0m \u001b[38;5;28;01mtry\u001b[39;00m:\n\u001b[1;32m--> 150\u001b[0m   \u001b[38;5;28;01mreturn\u001b[39;00m fn(\u001b[38;5;241m*\u001b[39margs, \u001b[38;5;241m*\u001b[39m\u001b[38;5;241m*\u001b[39mkwargs)\n\u001b[0;32m    151\u001b[0m \u001b[38;5;28;01mexcept\u001b[39;00m \u001b[38;5;167;01mException\u001b[39;00m \u001b[38;5;28;01mas\u001b[39;00m e:\n\u001b[0;32m    152\u001b[0m   filtered_tb \u001b[38;5;241m=\u001b[39m _process_traceback_frames(e\u001b[38;5;241m.\u001b[39m__traceback__)\n",
      "File \u001b[1;32m~\\AppData\\Roaming\\Python\\Python39\\site-packages\\tensorflow\\python\\eager\\def_function.py:915\u001b[0m, in \u001b[0;36mFunction.__call__\u001b[1;34m(self, *args, **kwds)\u001b[0m\n\u001b[0;32m    912\u001b[0m compiler \u001b[38;5;241m=\u001b[39m \u001b[38;5;124m\"\u001b[39m\u001b[38;5;124mxla\u001b[39m\u001b[38;5;124m\"\u001b[39m \u001b[38;5;28;01mif\u001b[39;00m \u001b[38;5;28mself\u001b[39m\u001b[38;5;241m.\u001b[39m_jit_compile \u001b[38;5;28;01melse\u001b[39;00m \u001b[38;5;124m\"\u001b[39m\u001b[38;5;124mnonXla\u001b[39m\u001b[38;5;124m\"\u001b[39m\n\u001b[0;32m    914\u001b[0m \u001b[38;5;28;01mwith\u001b[39;00m OptionalXlaContext(\u001b[38;5;28mself\u001b[39m\u001b[38;5;241m.\u001b[39m_jit_compile):\n\u001b[1;32m--> 915\u001b[0m   result \u001b[38;5;241m=\u001b[39m \u001b[38;5;28mself\u001b[39m\u001b[38;5;241m.\u001b[39m_call(\u001b[38;5;241m*\u001b[39margs, \u001b[38;5;241m*\u001b[39m\u001b[38;5;241m*\u001b[39mkwds)\n\u001b[0;32m    917\u001b[0m new_tracing_count \u001b[38;5;241m=\u001b[39m \u001b[38;5;28mself\u001b[39m\u001b[38;5;241m.\u001b[39mexperimental_get_tracing_count()\n\u001b[0;32m    918\u001b[0m without_tracing \u001b[38;5;241m=\u001b[39m (tracing_count \u001b[38;5;241m==\u001b[39m new_tracing_count)\n",
      "File \u001b[1;32m~\\AppData\\Roaming\\Python\\Python39\\site-packages\\tensorflow\\python\\eager\\def_function.py:947\u001b[0m, in \u001b[0;36mFunction._call\u001b[1;34m(self, *args, **kwds)\u001b[0m\n\u001b[0;32m    944\u001b[0m   \u001b[38;5;28mself\u001b[39m\u001b[38;5;241m.\u001b[39m_lock\u001b[38;5;241m.\u001b[39mrelease()\n\u001b[0;32m    945\u001b[0m   \u001b[38;5;66;03m# In this case we have created variables on the first call, so we run the\u001b[39;00m\n\u001b[0;32m    946\u001b[0m   \u001b[38;5;66;03m# defunned version which is guaranteed to never create variables.\u001b[39;00m\n\u001b[1;32m--> 947\u001b[0m   \u001b[38;5;28;01mreturn\u001b[39;00m \u001b[38;5;28mself\u001b[39m\u001b[38;5;241m.\u001b[39m_stateless_fn(\u001b[38;5;241m*\u001b[39margs, \u001b[38;5;241m*\u001b[39m\u001b[38;5;241m*\u001b[39mkwds)  \u001b[38;5;66;03m# pylint: disable=not-callable\u001b[39;00m\n\u001b[0;32m    948\u001b[0m \u001b[38;5;28;01melif\u001b[39;00m \u001b[38;5;28mself\u001b[39m\u001b[38;5;241m.\u001b[39m_stateful_fn \u001b[38;5;129;01mis\u001b[39;00m \u001b[38;5;129;01mnot\u001b[39;00m \u001b[38;5;28;01mNone\u001b[39;00m:\n\u001b[0;32m    949\u001b[0m   \u001b[38;5;66;03m# Release the lock early so that multiple threads can perform the call\u001b[39;00m\n\u001b[0;32m    950\u001b[0m   \u001b[38;5;66;03m# in parallel.\u001b[39;00m\n\u001b[0;32m    951\u001b[0m   \u001b[38;5;28mself\u001b[39m\u001b[38;5;241m.\u001b[39m_lock\u001b[38;5;241m.\u001b[39mrelease()\n",
      "File \u001b[1;32m~\\AppData\\Roaming\\Python\\Python39\\site-packages\\tensorflow\\python\\eager\\function.py:2956\u001b[0m, in \u001b[0;36mFunction.__call__\u001b[1;34m(self, *args, **kwargs)\u001b[0m\n\u001b[0;32m   2953\u001b[0m \u001b[38;5;28;01mwith\u001b[39;00m \u001b[38;5;28mself\u001b[39m\u001b[38;5;241m.\u001b[39m_lock:\n\u001b[0;32m   2954\u001b[0m   (graph_function,\n\u001b[0;32m   2955\u001b[0m    filtered_flat_args) \u001b[38;5;241m=\u001b[39m \u001b[38;5;28mself\u001b[39m\u001b[38;5;241m.\u001b[39m_maybe_define_function(args, kwargs)\n\u001b[1;32m-> 2956\u001b[0m \u001b[38;5;28;01mreturn\u001b[39;00m \u001b[43mgraph_function\u001b[49m\u001b[38;5;241;43m.\u001b[39;49m\u001b[43m_call_flat\u001b[49m\u001b[43m(\u001b[49m\n\u001b[0;32m   2957\u001b[0m \u001b[43m    \u001b[49m\u001b[43mfiltered_flat_args\u001b[49m\u001b[43m,\u001b[49m\u001b[43m \u001b[49m\u001b[43mcaptured_inputs\u001b[49m\u001b[38;5;241;43m=\u001b[39;49m\u001b[43mgraph_function\u001b[49m\u001b[38;5;241;43m.\u001b[39;49m\u001b[43mcaptured_inputs\u001b[49m\u001b[43m)\u001b[49m\n",
      "File \u001b[1;32m~\\AppData\\Roaming\\Python\\Python39\\site-packages\\tensorflow\\python\\eager\\function.py:1853\u001b[0m, in \u001b[0;36mConcreteFunction._call_flat\u001b[1;34m(self, args, captured_inputs, cancellation_manager)\u001b[0m\n\u001b[0;32m   1849\u001b[0m possible_gradient_type \u001b[38;5;241m=\u001b[39m gradients_util\u001b[38;5;241m.\u001b[39mPossibleTapeGradientTypes(args)\n\u001b[0;32m   1850\u001b[0m \u001b[38;5;28;01mif\u001b[39;00m (possible_gradient_type \u001b[38;5;241m==\u001b[39m gradients_util\u001b[38;5;241m.\u001b[39mPOSSIBLE_GRADIENT_TYPES_NONE\n\u001b[0;32m   1851\u001b[0m     \u001b[38;5;129;01mand\u001b[39;00m executing_eagerly):\n\u001b[0;32m   1852\u001b[0m   \u001b[38;5;66;03m# No tape is watching; skip to running the function.\u001b[39;00m\n\u001b[1;32m-> 1853\u001b[0m   \u001b[38;5;28;01mreturn\u001b[39;00m \u001b[38;5;28mself\u001b[39m\u001b[38;5;241m.\u001b[39m_build_call_outputs(\u001b[38;5;28;43mself\u001b[39;49m\u001b[38;5;241;43m.\u001b[39;49m\u001b[43m_inference_function\u001b[49m\u001b[38;5;241;43m.\u001b[39;49m\u001b[43mcall\u001b[49m\u001b[43m(\u001b[49m\n\u001b[0;32m   1854\u001b[0m \u001b[43m      \u001b[49m\u001b[43mctx\u001b[49m\u001b[43m,\u001b[49m\u001b[43m \u001b[49m\u001b[43margs\u001b[49m\u001b[43m,\u001b[49m\u001b[43m \u001b[49m\u001b[43mcancellation_manager\u001b[49m\u001b[38;5;241;43m=\u001b[39;49m\u001b[43mcancellation_manager\u001b[49m\u001b[43m)\u001b[49m)\n\u001b[0;32m   1855\u001b[0m forward_backward \u001b[38;5;241m=\u001b[39m \u001b[38;5;28mself\u001b[39m\u001b[38;5;241m.\u001b[39m_select_forward_and_backward_functions(\n\u001b[0;32m   1856\u001b[0m     args,\n\u001b[0;32m   1857\u001b[0m     possible_gradient_type,\n\u001b[0;32m   1858\u001b[0m     executing_eagerly)\n\u001b[0;32m   1859\u001b[0m forward_function, args_with_tangents \u001b[38;5;241m=\u001b[39m forward_backward\u001b[38;5;241m.\u001b[39mforward()\n",
      "File \u001b[1;32m~\\AppData\\Roaming\\Python\\Python39\\site-packages\\tensorflow\\python\\eager\\function.py:499\u001b[0m, in \u001b[0;36m_EagerDefinedFunction.call\u001b[1;34m(self, ctx, args, cancellation_manager)\u001b[0m\n\u001b[0;32m    497\u001b[0m \u001b[38;5;28;01mwith\u001b[39;00m _InterpolateFunctionError(\u001b[38;5;28mself\u001b[39m):\n\u001b[0;32m    498\u001b[0m   \u001b[38;5;28;01mif\u001b[39;00m cancellation_manager \u001b[38;5;129;01mis\u001b[39;00m \u001b[38;5;28;01mNone\u001b[39;00m:\n\u001b[1;32m--> 499\u001b[0m     outputs \u001b[38;5;241m=\u001b[39m \u001b[43mexecute\u001b[49m\u001b[38;5;241;43m.\u001b[39;49m\u001b[43mexecute\u001b[49m\u001b[43m(\u001b[49m\n\u001b[0;32m    500\u001b[0m \u001b[43m        \u001b[49m\u001b[38;5;28;43mstr\u001b[39;49m\u001b[43m(\u001b[49m\u001b[38;5;28;43mself\u001b[39;49m\u001b[38;5;241;43m.\u001b[39;49m\u001b[43msignature\u001b[49m\u001b[38;5;241;43m.\u001b[39;49m\u001b[43mname\u001b[49m\u001b[43m)\u001b[49m\u001b[43m,\u001b[49m\n\u001b[0;32m    501\u001b[0m \u001b[43m        \u001b[49m\u001b[43mnum_outputs\u001b[49m\u001b[38;5;241;43m=\u001b[39;49m\u001b[38;5;28;43mself\u001b[39;49m\u001b[38;5;241;43m.\u001b[39;49m\u001b[43m_num_outputs\u001b[49m\u001b[43m,\u001b[49m\n\u001b[0;32m    502\u001b[0m \u001b[43m        \u001b[49m\u001b[43minputs\u001b[49m\u001b[38;5;241;43m=\u001b[39;49m\u001b[43margs\u001b[49m\u001b[43m,\u001b[49m\n\u001b[0;32m    503\u001b[0m \u001b[43m        \u001b[49m\u001b[43mattrs\u001b[49m\u001b[38;5;241;43m=\u001b[39;49m\u001b[43mattrs\u001b[49m\u001b[43m,\u001b[49m\n\u001b[0;32m    504\u001b[0m \u001b[43m        \u001b[49m\u001b[43mctx\u001b[49m\u001b[38;5;241;43m=\u001b[39;49m\u001b[43mctx\u001b[49m\u001b[43m)\u001b[49m\n\u001b[0;32m    505\u001b[0m   \u001b[38;5;28;01melse\u001b[39;00m:\n\u001b[0;32m    506\u001b[0m     outputs \u001b[38;5;241m=\u001b[39m execute\u001b[38;5;241m.\u001b[39mexecute_with_cancellation(\n\u001b[0;32m    507\u001b[0m         \u001b[38;5;28mstr\u001b[39m(\u001b[38;5;28mself\u001b[39m\u001b[38;5;241m.\u001b[39msignature\u001b[38;5;241m.\u001b[39mname),\n\u001b[0;32m    508\u001b[0m         num_outputs\u001b[38;5;241m=\u001b[39m\u001b[38;5;28mself\u001b[39m\u001b[38;5;241m.\u001b[39m_num_outputs,\n\u001b[1;32m   (...)\u001b[0m\n\u001b[0;32m    511\u001b[0m         ctx\u001b[38;5;241m=\u001b[39mctx,\n\u001b[0;32m    512\u001b[0m         cancellation_manager\u001b[38;5;241m=\u001b[39mcancellation_manager)\n",
      "File \u001b[1;32m~\\AppData\\Roaming\\Python\\Python39\\site-packages\\tensorflow\\python\\eager\\execute.py:54\u001b[0m, in \u001b[0;36mquick_execute\u001b[1;34m(op_name, num_outputs, inputs, attrs, ctx, name)\u001b[0m\n\u001b[0;32m     52\u001b[0m \u001b[38;5;28;01mtry\u001b[39;00m:\n\u001b[0;32m     53\u001b[0m   ctx\u001b[38;5;241m.\u001b[39mensure_initialized()\n\u001b[1;32m---> 54\u001b[0m   tensors \u001b[38;5;241m=\u001b[39m \u001b[43mpywrap_tfe\u001b[49m\u001b[38;5;241;43m.\u001b[39;49m\u001b[43mTFE_Py_Execute\u001b[49m\u001b[43m(\u001b[49m\u001b[43mctx\u001b[49m\u001b[38;5;241;43m.\u001b[39;49m\u001b[43m_handle\u001b[49m\u001b[43m,\u001b[49m\u001b[43m \u001b[49m\u001b[43mdevice_name\u001b[49m\u001b[43m,\u001b[49m\u001b[43m \u001b[49m\u001b[43mop_name\u001b[49m\u001b[43m,\u001b[49m\n\u001b[0;32m     55\u001b[0m \u001b[43m                                      \u001b[49m\u001b[43minputs\u001b[49m\u001b[43m,\u001b[49m\u001b[43m \u001b[49m\u001b[43mattrs\u001b[49m\u001b[43m,\u001b[49m\u001b[43m \u001b[49m\u001b[43mnum_outputs\u001b[49m\u001b[43m)\u001b[49m\n\u001b[0;32m     56\u001b[0m \u001b[38;5;28;01mexcept\u001b[39;00m core\u001b[38;5;241m.\u001b[39m_NotOkStatusException \u001b[38;5;28;01mas\u001b[39;00m e:\n\u001b[0;32m     57\u001b[0m   \u001b[38;5;28;01mif\u001b[39;00m name \u001b[38;5;129;01mis\u001b[39;00m \u001b[38;5;129;01mnot\u001b[39;00m \u001b[38;5;28;01mNone\u001b[39;00m:\n",
      "\u001b[1;31mKeyboardInterrupt\u001b[0m: "
     ]
    }
   ],
   "source": [
    "# training\n",
    "model, history = train_lstm(train_X,train_Y,validation_X,validation_Y)"
   ]
  },
  {
   "cell_type": "code",
   "execution_count": null,
   "id": "e65a33b0-3d96-4b50-8cad-7dcc9bade839",
   "metadata": {
    "id": "e65a33b0-3d96-4b50-8cad-7dcc9bade839"
   },
   "outputs": [],
   "source": [
    "plot_loss(history, 'fill_by_mean_loss')"
   ]
  },
  {
   "cell_type": "code",
   "execution_count": null,
   "id": "43825a72-8967-4b77-b5c7-e5285dc2fa7a",
   "metadata": {
    "id": "43825a72-8967-4b77-b5c7-e5285dc2fa7a"
   },
   "outputs": [],
   "source": [
    "valid_mae = plot_result(validation_X, validation_Y, model, 'fill_by_mean_validation')"
   ]
  },
  {
   "cell_type": "code",
   "execution_count": null,
   "id": "a5e96168-fa37-4203-a9bf-c43a668e2563",
   "metadata": {
    "id": "a5e96168-fa37-4203-a9bf-c43a668e2563"
   },
   "outputs": [],
   "source": [
    "test_mae = plot_result(test_X, test_Y, model, 'fill_by_mean_testset')"
   ]
  },
  {
   "cell_type": "code",
   "execution_count": null,
   "id": "c0c7f606-e996-493a-bae4-e14febc5b58a",
   "metadata": {
    "id": "c0c7f606-e996-493a-bae4-e14febc5b58a"
   },
   "outputs": [],
   "source": [
    "result = pd.DataFrame({},columns=['Validation_MAE','test_MAE'])\n",
    "result.loc['fill_by_mean'] = [valid_mae,test_mae]"
   ]
  },
  {
   "cell_type": "code",
   "execution_count": null,
   "id": "5f56915e-73c5-4357-8a8e-3925b75c9f7a",
   "metadata": {
    "id": "5f56915e-73c5-4357-8a8e-3925b75c9f7a"
   },
   "outputs": [],
   "source": [
    "result"
   ]
  },
  {
   "cell_type": "code",
   "execution_count": null,
   "id": "3226baed-c8ec-491d-924a-6991aecddc36",
   "metadata": {
    "id": "3226baed-c8ec-491d-924a-6991aecddc36"
   },
   "outputs": [],
   "source": [
    "# Method 2: fill missing values by last valid values\n",
    "df2 = df.copy()\n",
    "\n",
    "df2.drop(['THC','CH4','NMHC'],axis=1,inplace=True)\n",
    "for station, d in df2.groupby('station'):\n",
    "    d.fillna(method='ffill',inplace=True)\n",
    "\n",
    "\n",
    "(\n",
    "    train_X,\n",
    "    train_Y,\n",
    "    validation_X,\n",
    "    validation_Y,\n",
    "    test_X,\n",
    "    test_Y,\n",
    "    label_scaler\n",
    ") = preprocessing(df2)"
   ]
  },
  {
   "cell_type": "code",
   "execution_count": null,
   "id": "2a8c4a1a-6dee-4162-b8b5-936398f87db6",
   "metadata": {
    "colab": {
     "background_save": true
    },
    "id": "2a8c4a1a-6dee-4162-b8b5-936398f87db6",
    "scrolled": true
   },
   "outputs": [],
   "source": [
    "model,history = train_lstm(train_X,train_Y,validation_X,validation_Y)"
   ]
  },
  {
   "cell_type": "code",
   "execution_count": null,
   "id": "7e504a50-cd6c-4a43-b5fe-88c3dd84d033",
   "metadata": {
    "colab": {
     "background_save": true
    },
    "id": "7e504a50-cd6c-4a43-b5fe-88c3dd84d033"
   },
   "outputs": [],
   "source": [
    "plot_loss(history, 'drop_and_ffill_loss')"
   ]
  },
  {
   "cell_type": "code",
   "execution_count": null,
   "id": "7b078f54-2c81-4812-8866-d361fa6b8bf2",
   "metadata": {
    "colab": {
     "background_save": true
    },
    "id": "7b078f54-2c81-4812-8866-d361fa6b8bf2"
   },
   "outputs": [],
   "source": [
    "valid_mae = plot_result(validation_X, validation_Y, model, 'drop_and_ffill_validation')"
   ]
  },
  {
   "cell_type": "code",
   "execution_count": null,
   "id": "e3af2044-1a60-4321-bf9c-e95a2eedad44",
   "metadata": {
    "colab": {
     "background_save": true
    },
    "id": "e3af2044-1a60-4321-bf9c-e95a2eedad44"
   },
   "outputs": [],
   "source": [
    "test_mae = plot_result(test_X, test_Y, model, 'drop_and_ffill_test')"
   ]
  },
  {
   "cell_type": "code",
   "execution_count": null,
   "id": "2624574f-6a1a-4544-87bd-7be1db14b607",
   "metadata": {
    "colab": {
     "background_save": true
    },
    "id": "2624574f-6a1a-4544-87bd-7be1db14b607"
   },
   "outputs": [],
   "source": [
    "result.loc['drop_and_ffill'] = [valid_mae,test_mae]"
   ]
  },
  {
   "cell_type": "code",
   "execution_count": null,
   "id": "5e6a94a1-761c-44f4-9d91-6d2501b06e60",
   "metadata": {
    "colab": {
     "background_save": true
    },
    "id": "5e6a94a1-761c-44f4-9d91-6d2501b06e60"
   },
   "outputs": [],
   "source": [
    "result"
   ]
  },
  {
   "cell_type": "code",
   "execution_count": null,
   "id": "7668f55c-4f89-4154-a808-578ec9cb675a",
   "metadata": {
    "id": "7668f55c-4f89-4154-a808-578ec9cb675a"
   },
   "outputs": [],
   "source": [
    "# Method 3: drop THC, CH4, NMHC and fill by mean of training data\n",
    "df3 = df.copy()\n",
    "\n",
    "df3.drop(['THC','CH4','NMHC'],axis=1,inplace=True)\n",
    "for col in numerical_columns:\n",
    "    if col in df3.columns:\n",
    "        train_mean = df3.loc[\"2018\", col].mean()\n",
    "        df3.fillna(train_mean,inplace=True)\n",
    "\n",
    "\n",
    "(\n",
    "    train_X,\n",
    "    train_Y,\n",
    "    validation_X,\n",
    "    validation_Y,\n",
    "    test_X,\n",
    "    test_Y,\n",
    "    label_scaler\n",
    ") = preprocessing(df3)"
   ]
  },
  {
   "cell_type": "code",
   "execution_count": null,
   "id": "edc02f2b-14fb-4e4b-be03-b9f26c631da0",
   "metadata": {
    "id": "edc02f2b-14fb-4e4b-be03-b9f26c631da0",
    "scrolled": true
   },
   "outputs": [],
   "source": [
    "model,history = train_lstm(train_X,train_Y,validation_X,validation_Y)"
   ]
  },
  {
   "cell_type": "code",
   "execution_count": null,
   "id": "7e615f71-f37a-4a57-9b2e-063cb9f8bf7a",
   "metadata": {
    "id": "7e615f71-f37a-4a57-9b2e-063cb9f8bf7a"
   },
   "outputs": [],
   "source": [
    "plot_loss(history, 'drop_and_fill_by_mean_loss')"
   ]
  },
  {
   "cell_type": "code",
   "execution_count": null,
   "id": "c527c3eb-9855-48fe-8810-6c4de569f81c",
   "metadata": {
    "id": "c527c3eb-9855-48fe-8810-6c4de569f81c"
   },
   "outputs": [],
   "source": [
    "valid_mae = plot_result(validation_X, validation_Y, model, 'drop_and_fill_by_mean_validation')"
   ]
  },
  {
   "cell_type": "code",
   "execution_count": null,
   "id": "e283700b-9850-497c-a032-54c5741cbba9",
   "metadata": {
    "id": "e283700b-9850-497c-a032-54c5741cbba9"
   },
   "outputs": [],
   "source": [
    "test_mae = plot_result(test_X, test_Y, model, 'drop_and_fill_by_mean_test')"
   ]
  },
  {
   "cell_type": "code",
   "execution_count": null,
   "id": "5dec0db0-fc70-4a0a-82e1-99d15f430561",
   "metadata": {
    "id": "5dec0db0-fc70-4a0a-82e1-99d15f430561"
   },
   "outputs": [],
   "source": [
    "result.loc['drop_and_fill_by_mean'] = [valid_mae,test_mae]"
   ]
  },
  {
   "cell_type": "code",
   "execution_count": null,
   "id": "16e44d88-a7ec-4e2c-8bf7-15c0b6aa2c93",
   "metadata": {
    "id": "16e44d88-a7ec-4e2c-8bf7-15c0b6aa2c93"
   },
   "outputs": [],
   "source": [
    "result"
   ]
  },
  {
   "cell_type": "code",
   "execution_count": null,
   "id": "e8e80beb-2191-4090-a3c1-aa8af4a0c7e7",
   "metadata": {
    "id": "e8e80beb-2191-4090-a3c1-aa8af4a0c7e7"
   },
   "outputs": [],
   "source": [
    "df4 = df.copy()\n",
    "df4 = df4.groupby([\"station\", pd.Grouper(freq=\"D\")]).mean()\n",
    "for station, d in df4.groupby([\"station\"]):\n",
    "    # df4.loc[station, \"previous\"] = d.loc[station].groupby([d.loc[station].index.month,d.loc[station].index.day])['PM2.5'].shift().values\n",
    "    df4.loc[station, 'previous'] = d.loc[station,\"PM2.5\"].shift().values\n",
    "    \n",
    "df4_2019 = df4.loc[df4.index.get_level_values('time').year==2019].dropna(how='any',subset=['PM2.5','previous'])\n",
    "\n",
    "valid_mae = mean_absolute_error(df4_2019['PM2.5'],df4_2019['previous'])\n",
    "\n",
    "df4_2020 = df4.loc[df4.index.get_level_values('time').year==2020].dropna(how='any',subset=['PM2.5','previous'])\n",
    "\n",
    "test_mae = mean_absolute_error(df4_2020['PM2.5'],df4_2020['previous'])"
   ]
  },
  {
   "cell_type": "code",
   "execution_count": null,
   "id": "402c042d-3195-4f5d-a33e-845dd267e9d6",
   "metadata": {
    "id": "402c042d-3195-4f5d-a33e-845dd267e9d6"
   },
   "outputs": [],
   "source": [
    "result.loc['previous_day'] = [valid_mae,test_mae]"
   ]
  },
  {
   "cell_type": "code",
   "execution_count": null,
   "id": "5b611d49-5cf1-49df-a98b-94480225d84f",
   "metadata": {
    "id": "5b611d49-5cf1-49df-a98b-94480225d84f"
   },
   "outputs": [],
   "source": [
    "result.style.highlight_min(color=\"green\", axis=0)"
   ]
  },
  {
   "cell_type": "markdown",
   "id": "8b0b9f45-5bc2-42aa-911d-f1a64b282cd4",
   "metadata": {
    "id": "8b0b9f45-5bc2-42aa-911d-f1a64b282cd4"
   },
   "source": [
    "# Chanllenge 2: Temporal data representation\n",
    "\n",
    "strategies:\n",
    "- Add new columns of year, month, day.\n",
    "- Add new features of previous 7 days target.\n",
    "- Add new features that represent the statistics of last week"
   ]
  },
  {
   "cell_type": "code",
   "execution_count": null,
   "id": "29c559a6-347b-4cc2-9d3b-b8d65d8abdf0",
   "metadata": {
    "id": "29c559a6-347b-4cc2-9d3b-b8d65d8abdf0"
   },
   "outputs": [],
   "source": [
    "def fill_na(df):\n",
    "    for col in numerical_columns:\n",
    "        train_mean = df.loc[\"2018\", col].mean()\n",
    "        df.fillna(train_mean,inplace=True)\n",
    "\n",
    "    return df"
   ]
  },
  {
   "cell_type": "code",
   "execution_count": null,
   "id": "7cdc564c-8b5a-48d6-bb36-18075453cf6b",
   "metadata": {
    "id": "7cdc564c-8b5a-48d6-bb36-18075453cf6b"
   },
   "outputs": [],
   "source": [
    "# Method 1: Add new columns of year, month, day.\n",
    "df1 = df.copy()\n",
    "\n",
    "df1 = fill_na(df1)\n",
    "\n",
    "df1['year'] = df1.index.year\n",
    "df1['month'] = df1.index.month\n",
    "df1['day'] = df1.index.day\n",
    "\n",
    "(\n",
    "    train_X,\n",
    "    train_Y,\n",
    "    validation_X,\n",
    "    validation_Y,\n",
    "    test_X,\n",
    "    test_Y,\n",
    "    label_scaler\n",
    ") = preprocessing(df1)"
   ]
  },
  {
   "cell_type": "code",
   "execution_count": null,
   "id": "60e53f31-cc3d-4578-a325-83978d7c8c36",
   "metadata": {
    "id": "60e53f31-cc3d-4578-a325-83978d7c8c36",
    "scrolled": true
   },
   "outputs": [],
   "source": [
    "model,history = train_lstm(train_X,train_Y,validation_X,validation_Y)"
   ]
  },
  {
   "cell_type": "code",
   "execution_count": null,
   "id": "643a2058-5b0c-46b0-9f00-6522d4e1037f",
   "metadata": {
    "id": "643a2058-5b0c-46b0-9f00-6522d4e1037f"
   },
   "outputs": [],
   "source": [
    "plot_loss(history, 'add_time_columns_loss')"
   ]
  },
  {
   "cell_type": "code",
   "execution_count": null,
   "id": "f5535893-10a4-4ae8-8600-88daf1078c91",
   "metadata": {
    "id": "f5535893-10a4-4ae8-8600-88daf1078c91"
   },
   "outputs": [],
   "source": [
    "valid_mae = plot_result(validation_X, validation_Y, model, 'add_time_columns_validation')"
   ]
  },
  {
   "cell_type": "code",
   "execution_count": null,
   "id": "b7ae0c4c-5b84-4ab4-8987-0741ab0f7efc",
   "metadata": {
    "id": "b7ae0c4c-5b84-4ab4-8987-0741ab0f7efc"
   },
   "outputs": [],
   "source": [
    "test_mae = plot_result(test_X, test_Y, model, 'add_time_columns_test')"
   ]
  },
  {
   "cell_type": "code",
   "execution_count": null,
   "id": "a29d1d82-f87f-4f4d-ba50-35862e344c05",
   "metadata": {
    "id": "a29d1d82-f87f-4f4d-ba50-35862e344c05"
   },
   "outputs": [],
   "source": [
    "temporal_result = pd.DataFrame({},columns=['Validation_MAE','test_MAE'])\n",
    "temporal_result.loc['add_time_columns'] = [valid_mae,test_mae]"
   ]
  },
  {
   "cell_type": "code",
   "execution_count": null,
   "id": "f20c01a6-64ec-4bae-904c-cf4e8d7a98a5",
   "metadata": {
    "id": "f20c01a6-64ec-4bae-904c-cf4e8d7a98a5"
   },
   "outputs": [],
   "source": [
    "temporal_result"
   ]
  },
  {
   "cell_type": "code",
   "execution_count": null,
   "id": "3f1059b5-9352-417e-9c0b-4dcc68d6e520",
   "metadata": {
    "id": "3f1059b5-9352-417e-9c0b-4dcc68d6e520"
   },
   "outputs": [],
   "source": [
    "# Method 2: add new features of previous 7 days target.\n",
    "df2 = df.copy()\n",
    "\n",
    "df2 = fill_na(df2)\n",
    "\n",
    "df2 = df2.groupby([\"station\", pd.Grouper(freq=\"D\")]).mean()\n",
    "\n",
    "for t in range(7):\n",
    "    df2[f't-{t+1}'] = df2['PM2.5'].shift(periods=t+1)\n",
    "df2.fillna(0,inplace=True)\n",
    "    \n",
    "(\n",
    "    train_X,\n",
    "    train_Y,\n",
    "    validation_X,\n",
    "    validation_Y,\n",
    "    test_X,\n",
    "    test_Y,\n",
    "    label_scaler\n",
    ") = preprocessing(df2,grouped=True)"
   ]
  },
  {
   "cell_type": "code",
   "execution_count": null,
   "id": "b501ce5e-b20a-4715-99f7-2d97504af512",
   "metadata": {
    "id": "b501ce5e-b20a-4715-99f7-2d97504af512",
    "scrolled": true
   },
   "outputs": [],
   "source": [
    "model,history = train_lstm(train_X,train_Y,validation_X,validation_Y)"
   ]
  },
  {
   "cell_type": "code",
   "execution_count": null,
   "id": "8c952541-fcd9-40fe-bb34-7da28f69e76b",
   "metadata": {
    "id": "8c952541-fcd9-40fe-bb34-7da28f69e76b"
   },
   "outputs": [],
   "source": [
    "plot_loss(history, 'add_prev_t_columns_loss')"
   ]
  },
  {
   "cell_type": "code",
   "execution_count": null,
   "id": "6da94288-58fc-4f5c-ac34-f2017ecf2f15",
   "metadata": {
    "id": "6da94288-58fc-4f5c-ac34-f2017ecf2f15"
   },
   "outputs": [],
   "source": [
    "valid_mae = plot_result(validation_X, validation_Y, model, 'add_prev_t_columns_validation')"
   ]
  },
  {
   "cell_type": "code",
   "execution_count": null,
   "id": "4d8deb88-45ac-47df-b4e2-cf15ed972fb7",
   "metadata": {
    "id": "4d8deb88-45ac-47df-b4e2-cf15ed972fb7"
   },
   "outputs": [],
   "source": [
    "test_mae = plot_result(test_X, test_Y, model, 'add_prev_t_columns_test')"
   ]
  },
  {
   "cell_type": "code",
   "execution_count": null,
   "id": "1a5e74f6-b09a-48ed-ab80-e24dcdcfcb6d",
   "metadata": {
    "id": "1a5e74f6-b09a-48ed-ab80-e24dcdcfcb6d"
   },
   "outputs": [],
   "source": [
    "temporal_result.loc['add_prev_t_columns'] = [valid_mae,test_mae]"
   ]
  },
  {
   "cell_type": "code",
   "execution_count": null,
   "id": "04361fdf-51a4-4986-9e36-51d2020fd498",
   "metadata": {
    "id": "04361fdf-51a4-4986-9e36-51d2020fd498"
   },
   "outputs": [],
   "source": [
    "temporal_result"
   ]
  },
  {
   "cell_type": "code",
   "execution_count": null,
   "id": "29dd3842-7044-45aa-bb4f-4717ffc667eb",
   "metadata": {
    "id": "29dd3842-7044-45aa-bb4f-4717ffc667eb"
   },
   "outputs": [],
   "source": [
    "# Method 3: add new features that represent the statistics of last week\n",
    "df3 = df.copy()\n",
    "\n",
    "df3 = fill_na(df3)\n",
    "\n",
    "df3 = df3.groupby([\"station\", pd.Grouper(freq=\"D\")]).mean()\n",
    "\n",
    "df3['last_week_mean'] = df3['PM2.5'].rolling(7).mean()\n",
    "df3['last_week_min'] = df3['PM2.5'].rolling(7).min()\n",
    "df3['last_week_max'] = df3['PM2.5'].rolling(7).max()\n",
    "df3['diff'] = df3['PM2.5'].diff(periods=1)\n",
    "df3['last_week_diff_mean'] = df3['diff'].rolling(7).mean()\n",
    "df3['last_week_diff_min'] = df3['diff'].rolling(7).min()\n",
    "df3['last_week_diff_max'] = df3['diff'].rolling(7).max()\n",
    "\n",
    "df3.fillna(0)\n",
    "    \n",
    "(\n",
    "    train_X,\n",
    "    train_Y,\n",
    "    validation_X,\n",
    "    validation_Y,\n",
    "    test_X,\n",
    "    test_Y,\n",
    "    label_scaler\n",
    ") = preprocessing(df3,grouped=True)"
   ]
  },
  {
   "cell_type": "code",
   "execution_count": null,
   "id": "36bdf108-a5fd-47c2-99c8-7afbcefb5d3c",
   "metadata": {
    "id": "36bdf108-a5fd-47c2-99c8-7afbcefb5d3c",
    "scrolled": true
   },
   "outputs": [],
   "source": [
    "model,history = train_lstm(train_X,train_Y,validation_X,validation_Y)"
   ]
  },
  {
   "cell_type": "code",
   "execution_count": null,
   "id": "d5ed6e92-aad3-4cc7-a9ee-cd1f543e1567",
   "metadata": {
    "id": "d5ed6e92-aad3-4cc7-a9ee-cd1f543e1567"
   },
   "outputs": [],
   "source": [
    "plot_loss(history, 'add_last_week_statistics_loss')"
   ]
  },
  {
   "cell_type": "code",
   "execution_count": null,
   "id": "63336c55-c8f3-41c9-b470-bb4940432f98",
   "metadata": {
    "id": "63336c55-c8f3-41c9-b470-bb4940432f98"
   },
   "outputs": [],
   "source": [
    "valid_mae = plot_result(validation_X, validation_Y, model, 'add_last_week_statistics_validation')"
   ]
  },
  {
   "cell_type": "code",
   "execution_count": null,
   "id": "8444742f-0ed5-4906-9801-d0dbb313848f",
   "metadata": {
    "id": "8444742f-0ed5-4906-9801-d0dbb313848f"
   },
   "outputs": [],
   "source": [
    "test_mae = plot_result(test_X, test_Y, model, 'add_last_week_statistics_test')"
   ]
  },
  {
   "cell_type": "code",
   "execution_count": null,
   "id": "9333f487-9458-45d3-bb58-bf74485c8c32",
   "metadata": {
    "id": "9333f487-9458-45d3-bb58-bf74485c8c32"
   },
   "outputs": [],
   "source": [
    "temporal_result.loc['add_last_week_statistics'] = [valid_mae,test_mae]"
   ]
  },
  {
   "cell_type": "code",
   "execution_count": null,
   "id": "f1087364-d193-49cc-8a7e-d902c9798777",
   "metadata": {
    "id": "f1087364-d193-49cc-8a7e-d902c9798777"
   },
   "outputs": [],
   "source": [
    "temporal_result"
   ]
  },
  {
   "cell_type": "code",
   "execution_count": null,
   "id": "25d38784-79b1-4af3-b0bf-8b47b0cc3828",
   "metadata": {
    "id": "25d38784-79b1-4af3-b0bf-8b47b0cc3828"
   },
   "outputs": [],
   "source": [
    "temporal_result.loc['drop_and_fill_by_mean'] = result.loc['drop_and_fill_by_mean']\n",
    "temporal_result.loc['previous_day'] = result.loc['previous_day']"
   ]
  },
  {
   "cell_type": "code",
   "execution_count": null,
   "id": "a252d0e2-d58f-43c4-89ec-5c09dc1198c4",
   "metadata": {
    "id": "a252d0e2-d58f-43c4-89ec-5c09dc1198c4"
   },
   "outputs": [],
   "source": [
    "temporal_result.style.highlight_min(color=\"green\", axis=0)"
   ]
  },
  {
   "cell_type": "markdown",
   "id": "ec20fec9-699f-4e4a-9c48-acb9741c42d9",
   "metadata": {
    "id": "ec20fec9-699f-4e4a-9c48-acb9741c42d9",
    "tags": []
   },
   "source": [
    "# Chanllenge 3: Spatial data representation\n",
    "\n",
    "Strategies:\n",
    "- Use kmeans to separate into 5 groups\n",
    "- Apply one hot representation to counties(22 counties)\n",
    "- Factorize county to numeric representation"
   ]
  },
  {
   "cell_type": "code",
   "execution_count": null,
   "id": "1fba84a4-d357-4451-8109-3a1227ff0ac8",
   "metadata": {
    "id": "1fba84a4-d357-4451-8109-3a1227ff0ac8"
   },
   "outputs": [],
   "source": [
    "# Method 1: Use kmeans to separate into 5 groups\n",
    "df1 = df.copy()\n",
    "\n",
    "df1 = fill_na(df1)\n",
    "kmeans = KMeans(n_clusters=5, random_state=0).fit(df1[['longitude','latitude']].values)\n",
    "df1['geo_group'] = kmeans.labels_\n",
    "    \n",
    "(\n",
    "    train_X,\n",
    "    train_Y,\n",
    "    validation_X,\n",
    "    validation_Y,\n",
    "    test_X,\n",
    "    test_Y,\n",
    "    label_scaler\n",
    ") = preprocessing(df1,category_cols=['geo_group'])"
   ]
  },
  {
   "cell_type": "code",
   "execution_count": null,
   "id": "1efebe76-2be6-4d48-84f0-0ce04bcd9ed9",
   "metadata": {
    "id": "1efebe76-2be6-4d48-84f0-0ce04bcd9ed9",
    "scrolled": true
   },
   "outputs": [],
   "source": [
    "model,history = train_lstm(train_X,train_Y,validation_X,validation_Y)"
   ]
  },
  {
   "cell_type": "code",
   "execution_count": null,
   "id": "3020e93c-39be-46e3-baa8-2404ca88a809",
   "metadata": {
    "id": "3020e93c-39be-46e3-baa8-2404ca88a809"
   },
   "outputs": [],
   "source": [
    "plot_loss(history, 'kmeans_loss')"
   ]
  },
  {
   "cell_type": "code",
   "execution_count": null,
   "id": "a1c6cc00-dc72-485b-aa94-fd6ab2fa9a6b",
   "metadata": {
    "id": "a1c6cc00-dc72-485b-aa94-fd6ab2fa9a6b"
   },
   "outputs": [],
   "source": [
    "valid_mae = plot_result(validation_X, validation_Y, model, 'kmeans_validation')"
   ]
  },
  {
   "cell_type": "code",
   "execution_count": null,
   "id": "0e71db41-e151-443e-81be-e5575d44c5a3",
   "metadata": {
    "id": "0e71db41-e151-443e-81be-e5575d44c5a3"
   },
   "outputs": [],
   "source": [
    "test_mae = plot_result(test_X, test_Y, model, 'kmeans_test')"
   ]
  },
  {
   "cell_type": "code",
   "execution_count": null,
   "id": "8e3f44ab-bfc7-49c7-a047-acf4f0783b29",
   "metadata": {
    "id": "8e3f44ab-bfc7-49c7-a047-acf4f0783b29"
   },
   "outputs": [],
   "source": [
    "spatial_result = pd.DataFrame({},columns=['Validation_MAE','test_MAE'])\n",
    "spatial_result.loc['kmeans'] = [valid_mae,test_mae]"
   ]
  },
  {
   "cell_type": "code",
   "execution_count": null,
   "id": "03a93267-733e-4da6-86e2-bfdbbdfdf811",
   "metadata": {
    "id": "03a93267-733e-4da6-86e2-bfdbbdfdf811"
   },
   "outputs": [],
   "source": [
    "spatial_result"
   ]
  },
  {
   "cell_type": "code",
   "execution_count": null,
   "id": "3a73f365-727b-4651-b978-719b85d9c384",
   "metadata": {
    "id": "3a73f365-727b-4651-b978-719b85d9c384"
   },
   "outputs": [],
   "source": [
    "# Method 2: Apply one hot representation to counties(22 counties)\n",
    "df2 = df.copy()\n",
    "\n",
    "df2 = fill_na(df2)\n",
    "\n",
    "new_geo = geo.copy()\n",
    "\n",
    "\n",
    "df2['county'] = pd.merge(df2,new_geo, left_on=  ['station'],\n",
    "                   right_on= ['siteengname'], \n",
    "                   how = 'left')['county'].values\n",
    "\n",
    "df2 = pd.concat([df2.drop('county',axis=1), pd.get_dummies(df2['county'])], axis=1)\n",
    "    \n",
    "(\n",
    "    train_X,\n",
    "    train_Y,\n",
    "    validation_X,\n",
    "    validation_Y,\n",
    "    test_X,\n",
    "    test_Y,\n",
    "    label_scaler\n",
    ") = preprocessing(df2)"
   ]
  },
  {
   "cell_type": "code",
   "execution_count": null,
   "id": "6891a31d-1c75-4476-a622-573d463eb42f",
   "metadata": {
    "id": "6891a31d-1c75-4476-a622-573d463eb42f",
    "scrolled": true
   },
   "outputs": [],
   "source": [
    "model,history = train_lstm(train_X,train_Y,validation_X,validation_Y)"
   ]
  },
  {
   "cell_type": "code",
   "execution_count": null,
   "id": "d0414164-d4e3-4e62-9371-cf65b4977a25",
   "metadata": {
    "id": "d0414164-d4e3-4e62-9371-cf65b4977a25"
   },
   "outputs": [],
   "source": [
    "plot_loss(history, 'one_hot_county_loss')"
   ]
  },
  {
   "cell_type": "code",
   "execution_count": null,
   "id": "2a75f987-c660-4bc8-8cdd-57514fd60960",
   "metadata": {
    "id": "2a75f987-c660-4bc8-8cdd-57514fd60960"
   },
   "outputs": [],
   "source": [
    "valid_mae = plot_result(validation_X, validation_Y, model, 'one_hot_county_validation')"
   ]
  },
  {
   "cell_type": "code",
   "execution_count": null,
   "id": "94d6ef37-07e1-4a72-97d6-3440a1bf0631",
   "metadata": {
    "id": "94d6ef37-07e1-4a72-97d6-3440a1bf0631"
   },
   "outputs": [],
   "source": [
    "test_mae = plot_result(test_X, test_Y, model, 'one_hot_county_test')"
   ]
  },
  {
   "cell_type": "code",
   "execution_count": null,
   "id": "a0a76c95-6b8f-4165-913c-685c6d52db0d",
   "metadata": {
    "id": "a0a76c95-6b8f-4165-913c-685c6d52db0d"
   },
   "outputs": [],
   "source": [
    "spatial_result.loc['one_hot_county'] = [valid_mae,test_mae]"
   ]
  },
  {
   "cell_type": "code",
   "execution_count": null,
   "id": "e08e8cdb-a0a4-4372-9568-4ce9ceede6f7",
   "metadata": {
    "id": "e08e8cdb-a0a4-4372-9568-4ce9ceede6f7"
   },
   "outputs": [],
   "source": [
    "spatial_result"
   ]
  },
  {
   "cell_type": "code",
   "execution_count": null,
   "id": "67974a61-26ce-4cb7-b667-53ebf96b31a9",
   "metadata": {
    "id": "67974a61-26ce-4cb7-b667-53ebf96b31a9"
   },
   "outputs": [],
   "source": [
    "# Method 3: Factorize county to numeric representation\n",
    "df3 = df.copy()\n",
    "\n",
    "df3 = fill_na(df3)\n",
    "\n",
    "new_geo = geo.copy()\n",
    "\n",
    "df3['county'] = pd.merge(df3,geo, left_on=  ['station'],\n",
    "                   right_on= ['siteengname'], \n",
    "                   how = 'left')['county'].values\n",
    "\n",
    "df3['county'] = pd.factorize(df3['county'])[0]\n",
    "    \n",
    "(\n",
    "    train_X,\n",
    "    train_Y,\n",
    "    validation_X,\n",
    "    validation_Y,\n",
    "    test_X,\n",
    "    test_Y,\n",
    "    label_scaler\n",
    ") = preprocessing(df3)"
   ]
  },
  {
   "cell_type": "code",
   "execution_count": null,
   "id": "0dc43201-b8cc-4c94-a897-5c671603c2e0",
   "metadata": {
    "id": "0dc43201-b8cc-4c94-a897-5c671603c2e0",
    "scrolled": true
   },
   "outputs": [],
   "source": [
    "model,history = train_lstm(train_X,train_Y,validation_X,validation_Y)"
   ]
  },
  {
   "cell_type": "code",
   "execution_count": null,
   "id": "d57a3d7d-cd00-4780-aba4-c106e2ffb7ab",
   "metadata": {
    "id": "d57a3d7d-cd00-4780-aba4-c106e2ffb7ab"
   },
   "outputs": [],
   "source": [
    "plot_loss(history, 'categorize_county_loss')"
   ]
  },
  {
   "cell_type": "code",
   "execution_count": null,
   "id": "dbb9ea08-7840-4948-910a-5b9ebb720ce9",
   "metadata": {
    "id": "dbb9ea08-7840-4948-910a-5b9ebb720ce9"
   },
   "outputs": [],
   "source": [
    "valid_mae = plot_result(validation_X, validation_Y, model, 'categorize_county_validation')"
   ]
  },
  {
   "cell_type": "code",
   "execution_count": null,
   "id": "81b52c9e-02e0-4ccd-b865-eef19cddc4c4",
   "metadata": {
    "id": "81b52c9e-02e0-4ccd-b865-eef19cddc4c4"
   },
   "outputs": [],
   "source": [
    "test_mae = plot_result(test_X, test_Y, model, 'categorize_county_test')"
   ]
  },
  {
   "cell_type": "code",
   "execution_count": null,
   "id": "0a611b0d-8c35-47fc-85f1-9a714473ccb6",
   "metadata": {
    "id": "0a611b0d-8c35-47fc-85f1-9a714473ccb6"
   },
   "outputs": [],
   "source": [
    "spatial_result.loc['categorize_county'] = [valid_mae,test_mae]\n",
    "spatial_result.loc['drop_and_fill_by_mean'] = result.loc['drop_and_fill_by_mean']\n",
    "spatial_result.loc['previous_day'] = result.loc['previous_day']"
   ]
  },
  {
   "cell_type": "code",
   "execution_count": null,
   "id": "5bfb9631-00ef-472b-9975-56c900da120f",
   "metadata": {
    "id": "5bfb9631-00ef-472b-9975-56c900da120f"
   },
   "outputs": [],
   "source": [
    "spatial_result.style.highlight_min(color=\"green\", axis=0)"
   ]
  },
  {
   "cell_type": "code",
   "execution_count": null,
   "id": "209faf23-c161-46b3-a858-a3a9e2859e87",
   "metadata": {
    "id": "209faf23-c161-46b3-a858-a3a9e2859e87"
   },
   "outputs": [],
   "source": []
  }
 ],
 "metadata": {
  "colab": {
   "collapsed_sections": [
    "8b0b9f45-5bc2-42aa-911d-f1a64b282cd4",
    "ec20fec9-699f-4e4a-9c48-acb9741c42d9"
   ],
   "name": "Untitled.ipynb",
   "provenance": []
  },
  "kernelspec": {
   "display_name": "Python 3 (ipykernel)",
   "language": "python",
   "name": "python3"
  },
  "language_info": {
   "codemirror_mode": {
    "name": "ipython",
    "version": 3
   },
   "file_extension": ".py",
   "mimetype": "text/x-python",
   "name": "python",
   "nbconvert_exporter": "python",
   "pygments_lexer": "ipython3",
   "version": "3.9.7"
  }
 },
 "nbformat": 4,
 "nbformat_minor": 5
}
